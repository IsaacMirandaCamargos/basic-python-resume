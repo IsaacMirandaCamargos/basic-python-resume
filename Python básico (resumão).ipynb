{
 "cells": [
  {
   "cell_type": "markdown",
   "id": "d2b2bb70",
   "metadata": {},
   "source": [
    "# Python básico (resumo):"
   ]
  },
  {
   "cell_type": "markdown",
   "id": "2c9fdadf",
   "metadata": {},
   "source": [
    "## 1. Variaveis e operações"
   ]
  },
  {
   "cell_type": "markdown",
   "id": "d9418eeb",
   "metadata": {},
   "source": [
    "### 1.1 Variáveis: mudar uma variavel\n",
    "- int: int()\n",
    "- str: str()\n",
    "- float: float()"
   ]
  },
  {
   "cell_type": "markdown",
   "id": "a0d192b2",
   "metadata": {},
   "source": [
    "###### 1.1.1 Descobrir o tipo de uma variavel e tamanho\n",
    "- type()\n",
    "- len()\n"
   ]
  },
  {
   "cell_type": "markdown",
   "id": "1d9b600d",
   "metadata": {},
   "source": [
    "### 1.2 Comentarios\n",
    "\n",
    "- Usamos comentarios com #"
   ]
  },
  {
   "cell_type": "markdown",
   "id": "b5a8ab75",
   "metadata": {},
   "source": [
    "### 1.3 Operadores"
   ]
  },
  {
   "cell_type": "markdown",
   "id": "91d87784",
   "metadata": {},
   "source": [
    "###### 1.3.1 Operadores matemáticos: Numeros"
   ]
  },
  {
   "cell_type": "markdown",
   "id": "9f8dd86d",
   "metadata": {},
   "source": [
    "- soma: +\n",
    "- subtração: -\n",
    "- divisão: /\n",
    "- multiplicação: *\n",
    "- exponenciação: **\n",
    "- resto: %      (5%2 = 1)\n",
    "- modelo: //    (5//2 = 2)"
   ]
  },
  {
   "cell_type": "markdown",
   "id": "3d6b15ac",
   "metadata": {},
   "source": [
    "###### 1.3.2 Operadores matemáticos: Strings"
   ]
  },
  {
   "cell_type": "markdown",
   "id": "7ee36e32",
   "metadata": {},
   "source": [
    "- concatenar: +\n",
    "- repetir int vezezs: \"texto\" * int"
   ]
  },
  {
   "cell_type": "markdown",
   "id": "495e7776",
   "metadata": {},
   "source": [
    "## 2. Entrada de dados"
   ]
  },
  {
   "cell_type": "markdown",
   "id": "7a95c44a",
   "metadata": {},
   "source": [
    "- input(\"texto que vai aparecer se quiser: \")\n",
    "    - input sempre retorna strings"
   ]
  },
  {
   "cell_type": "markdown",
   "id": "a95a2b74",
   "metadata": {},
   "source": [
    "## 3 Saida"
   ]
  },
  {
   "cell_type": "markdown",
   "id": "2889b2c3",
   "metadata": {},
   "source": [
    "- print(quase qualquer coisa)"
   ]
  },
  {
   "cell_type": "markdown",
   "id": "f74f191d",
   "metadata": {},
   "source": [
    "## 4. Booleanos"
   ]
  },
  {
   "cell_type": "markdown",
   "id": "1ac8c7fe",
   "metadata": {},
   "source": [
    "- Quarto tipo de variavel, essa variavel pode ser verdadeira ou falsa.\n",
    "\n",
    "- bool: True, False"
   ]
  },
  {
   "cell_type": "markdown",
   "id": "34d75501",
   "metadata": {},
   "source": [
    "### 4.1 Operadores booleanos"
   ]
  },
  {
   "cell_type": "markdown",
   "id": "4b25372a",
   "metadata": {},
   "source": [
    "- bool and bool: Os dois tem que ser True para que seja True.\n",
    "- bool or bool: Apenas um precisa ser True para que seja True.\n",
    "- not bool: O oposto do que é."
   ]
  },
  {
   "cell_type": "markdown",
   "id": "655b5b1b",
   "metadata": {},
   "source": [
    "### 4.2 Operadores relacionais"
   ]
  },
  {
   "cell_type": "markdown",
   "id": "7109a6c3",
   "metadata": {},
   "source": [
    "- Operadores relacionais retornam booleanos:\n",
    "- igual: ==\n",
    "- diferente: !=\n",
    "- menor ou igual: <=\n",
    "- maior ou igual: >=\n",
    "- menor: <\n",
    "- maior: >"
   ]
  },
  {
   "cell_type": "markdown",
   "id": "f1bd5a94",
   "metadata": {},
   "source": [
    "## 5. Estrutura de decisão"
   ]
  },
  {
   "cell_type": "markdown",
   "id": "f989a6a5",
   "metadata": {},
   "source": [
    "- if\n",
    "- elif\n",
    "- else"
   ]
  },
  {
   "cell_type": "markdown",
   "id": "29d3aba6",
   "metadata": {},
   "source": [
    "## 6. Strings"
   ]
  },
  {
   "cell_type": "markdown",
   "id": "272365f8",
   "metadata": {},
   "source": [
    "O index começa do 0.\n",
    "\n",
    "- pegar um caracter: frase[index]\n",
    "- cortar uma parte: frase[inicio:fim]\n",
    "- cortar uma parte com passo: frase[inicio:fim:passo]"
   ]
  },
  {
   "cell_type": "markdown",
   "id": "c99cf272",
   "metadata": {},
   "source": [
    "### 6.1 Strings: metodos"
   ]
  },
  {
   "cell_type": "markdown",
   "id": "7c62782a",
   "metadata": {},
   "source": [
    "- capitalize()\n",
    "- casefold(): semelhante ao lower(), só que mais bruto.\n",
    "- islower()\n",
    "- lower()\n",
    "- isupper()\n",
    "- upper()\n",
    "\n",
    "- split()\n",
    "- partition(sep)\n",
    "- rpartition(sep)\n",
    "\n",
    "\n",
    "- endswith(suffix[, start[, end]]): Retorna True ou false, caso a palavra termine com o suffix.\n",
    "\n",
    "\n",
    "- center(width[, fillchar]): centraliza\n",
    "- ljust(width[, fillchar])\n",
    "- rjust(width[, fillchar])\n",
    "\n",
    "- count(sub[, start[, end]]): conta\n",
    "\n",
    "- find(sub[, start[, end]]): Se não encontrar não da erro.\n",
    "- index(sub[, start[, end]]): Se não encontrar da erro.\n",
    "- rfind(sub[, start[, end]])\n",
    "- rindex(sub[, start[, end]])\n",
    "\n",
    "\n",
    "\n",
    "- join(iterable): \"/\".join([\"oi\", \"eu\", \"sou\", \"o\", \"isaac\"]) = oi/eu/sou/o/isaac\n",
    "- format(*args, **kwargs)\n",
    "- lstrip([chars]): limpa a string do lado esquerdo.\n",
    "- rstrip([chars])\n",
    "- removeprefix(prefix, /)\n",
    "- removesuffix(suffix, /)\n",
    "- replace(old, new[, count])\n",
    "-\n",
    "-\n"
   ]
  },
  {
   "cell_type": "markdown",
   "id": "10a8835c",
   "metadata": {},
   "source": [
    "## 7. Listas"
   ]
  },
  {
   "cell_type": "markdown",
   "id": "7d894761",
   "metadata": {},
   "source": [
    "- pegar um elemento: lista[index]\n",
    "- cortar uma parte: lista[inicio:fim]\n",
    "- cortar uma parte com passo: lista[inicio:fim:passo]"
   ]
  },
  {
   "cell_type": "markdown",
   "id": "0f5ee4c8",
   "metadata": {},
   "source": [
    "### 7.1 Listas: metodos"
   ]
  },
  {
   "cell_type": "markdown",
   "id": "84644f39",
   "metadata": {},
   "source": [
    "- append(x)\n",
    "- extend(iterable)\n",
    "- insert(i, x) \n",
    "- remove(x)\n",
    "- pop([i]): Colchetes simboliza argumento opcional.\n",
    "- clear()\n",
    "- index(x[, start[, end]])\n",
    "- count(x)\n",
    "- sort(*, key=None, reverse=False)\n",
    "- reverse(): equivalente a lista[::-1].copy()\n",
    "- copy()"
   ]
  },
  {
   "cell_type": "markdown",
   "id": "e715ad97",
   "metadata": {},
   "source": [
    "## 8. Estrutura de laço"
   ]
  },
  {
   "cell_type": "markdown",
   "id": "b9fd82fd",
   "metadata": {},
   "source": [
    "- for\n",
    "- while"
   ]
  },
  {
   "cell_type": "markdown",
   "id": "0b014024",
   "metadata": {},
   "source": []
  },
  {
   "cell_type": "markdown",
   "id": "a5cef6fa",
   "metadata": {},
   "source": []
  },
  {
   "cell_type": "markdown",
   "id": "5f7acda1",
   "metadata": {},
   "source": []
  },
  {
   "cell_type": "markdown",
   "id": "66310789",
   "metadata": {},
   "source": []
  },
  {
   "cell_type": "markdown",
   "id": "8fcf3694",
   "metadata": {},
   "source": []
  },
  {
   "cell_type": "markdown",
   "id": "5c386c23",
   "metadata": {},
   "source": []
  },
  {
   "cell_type": "markdown",
   "id": "785afcb9",
   "metadata": {},
   "source": []
  },
  {
   "cell_type": "markdown",
   "id": "c13a0428",
   "metadata": {},
   "source": []
  },
  {
   "cell_type": "markdown",
   "id": "780721a1",
   "metadata": {},
   "source": []
  },
  {
   "cell_type": "markdown",
   "id": "369e6f3d",
   "metadata": {},
   "source": []
  },
  {
   "cell_type": "markdown",
   "id": "8356f841",
   "metadata": {},
   "source": []
  },
  {
   "cell_type": "markdown",
   "id": "971025f2",
   "metadata": {},
   "source": []
  }
 ],
 "metadata": {
  "kernelspec": {
   "display_name": "Python 3 (ipykernel)",
   "language": "python",
   "name": "python3"
  },
  "language_info": {
   "codemirror_mode": {
    "name": "ipython",
    "version": 3
   },
   "file_extension": ".py",
   "mimetype": "text/x-python",
   "name": "python",
   "nbconvert_exporter": "python",
   "pygments_lexer": "ipython3",
   "version": "3.9.6"
  }
 },
 "nbformat": 4,
 "nbformat_minor": 5
}
