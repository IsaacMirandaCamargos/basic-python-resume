{
 "cells": [
  {
   "cell_type": "markdown",
   "id": "d2b2bb70",
   "metadata": {},
   "source": [
    "# Python básico (resumo):"
   ]
  },
  {
   "cell_type": "markdown",
   "id": "2c9fdadf",
   "metadata": {},
   "source": [
    "## 1. Variaveis e operações"
   ]
  },
  {
   "cell_type": "markdown",
   "id": "d9418eeb",
   "metadata": {},
   "source": [
    "### 1.1 Variáveis: mudar uma variavel\n",
    "- int: int()\n",
    "- str: str()\n",
    "- float: float()"
   ]
  },
  {
   "cell_type": "markdown",
   "id": "a0d192b2",
   "metadata": {},
   "source": [
    "###### 1.1.1 Descobrir o tipo de uma variavel e tamanho\n",
    "- type()\n",
    "- len()\n"
   ]
  },
  {
   "cell_type": "markdown",
   "id": "1d9b600d",
   "metadata": {},
   "source": [
    "### 1.2 Comentarios\n",
    "\n",
    "- Usamos comentarios com #"
   ]
  },
  {
   "cell_type": "markdown",
   "id": "b5a8ab75",
   "metadata": {},
   "source": [
    "### 1.3 Operadores"
   ]
  },
  {
   "cell_type": "markdown",
   "id": "91d87784",
   "metadata": {},
   "source": [
    "###### 1.3.1 Operadores matemáticos: Numeros"
   ]
  },
  {
   "cell_type": "markdown",
   "id": "9f8dd86d",
   "metadata": {},
   "source": [
    "- soma: +\n",
    "- subtração: -\n",
    "- divisão: /\n",
    "- multiplicação: *\n",
    "- exponenciação: **\n",
    "- resto: %      (5%2 = 1)\n",
    "- modelo: //    (5//2 = 2)"
   ]
  },
  {
   "cell_type": "markdown",
   "id": "3d6b15ac",
   "metadata": {},
   "source": [
    "###### 1.3.2 Operadores matemáticos: Strings"
   ]
  },
  {
   "cell_type": "markdown",
   "id": "7ee36e32",
   "metadata": {},
   "source": [
    "- concatenar: +\n",
    "- repetir int vezezs: \"texto\" * int"
   ]
  },
  {
   "cell_type": "markdown",
   "id": "495e7776",
   "metadata": {},
   "source": [
    "## 2. Entrada de dados"
   ]
  },
  {
   "cell_type": "markdown",
   "id": "7a95c44a",
   "metadata": {},
   "source": [
    "- input(\"texto que vai aparecer se quiser: \")\n",
    "    - input sempre retorna strings"
   ]
  },
  {
   "cell_type": "markdown",
   "id": "a95a2b74",
   "metadata": {},
   "source": [
    "## 3 Saida"
   ]
  },
  {
   "cell_type": "markdown",
   "id": "2889b2c3",
   "metadata": {},
   "source": [
    "- print(quase qualquer coisa)"
   ]
  },
  {
   "cell_type": "markdown",
   "id": "f74f191d",
   "metadata": {},
   "source": [
    "## 4. Booleanos"
   ]
  },
  {
   "cell_type": "markdown",
   "id": "1ac8c7fe",
   "metadata": {},
   "source": [
    "- Quarto tipo de variavel, essa variavel pode ser verdadeira ou falsa.\n",
    "\n",
    "- bool: True, False"
   ]
  },
  {
   "cell_type": "markdown",
   "id": "34d75501",
   "metadata": {},
   "source": [
    "### 4.1 Operadores booleanos"
   ]
  },
  {
   "cell_type": "markdown",
   "id": "4b25372a",
   "metadata": {},
   "source": [
    "- bool and bool: Os dois tem que ser True para que seja True.\n",
    "- bool or bool: Apenas um precisa ser True para que seja True.\n",
    "- not bool: O oposto do que é."
   ]
  },
  {
   "cell_type": "markdown",
   "id": "655b5b1b",
   "metadata": {},
   "source": [
    "### 4.2 Operadores relacionais"
   ]
  },
  {
   "cell_type": "markdown",
   "id": "7109a6c3",
   "metadata": {},
   "source": [
    "- Operadores relacionais retornam booleanos:\n",
    "- igual: ==\n",
    "- diferente: !=\n",
    "- menor ou igual: <=\n",
    "- maior ou igual: >=\n",
    "- menor: <\n",
    "- maior: >"
   ]
  },
  {
   "cell_type": "markdown",
   "id": "f1bd5a94",
   "metadata": {},
   "source": [
    "## 5. Estrutura de decisão"
   ]
  },
  {
   "cell_type": "markdown",
   "id": "f989a6a5",
   "metadata": {},
   "source": [
    "- if\n",
    "- elif\n",
    "- else"
   ]
  },
  {
   "cell_type": "markdown",
   "id": "29d3aba6",
   "metadata": {},
   "source": [
    "## 6. Strings"
   ]
  },
  {
   "cell_type": "markdown",
   "id": "272365f8",
   "metadata": {},
   "source": [
    "O index começa do 0.\n",
    "\n",
    "- pegar um caracter: frase[index]\n",
    "- cortar uma parte: frase[inicio:fim]\n",
    "- cortar uma parte com passo: frase[inicio:fim:passo]"
   ]
  },
  {
   "cell_type": "markdown",
   "id": "c99cf272",
   "metadata": {},
   "source": [
    "### 6.1 Strings: metodos"
   ]
  },
  {
   "cell_type": "markdown",
   "id": "d20f3844",
   "metadata": {},
   "source": [
    "###### 6.1.1 metodos: alterar case\n",
    "- capitalize()\n",
    "- title()\n",
    "- swapcase()\n",
    "- upper()\n",
    "- lower()\n",
    "- casefold(): semelhante ao lower(), só que mais bruto.\n"
   ]
  },
  {
   "cell_type": "markdown",
   "id": "d12a1921",
   "metadata": {},
   "source": [
    "###### 6.1.2 metodos: quebrar string\n",
    "- split(sep=None, maxsplit=- 1)\n",
    "- rsplit(sep=None, maxsplit=- 1)\n",
    "- partition(sep): retorna uma tupla ( antes do separador, separador, depois )\n",
    "- rpartition(sep)"
   ]
  },
  {
   "cell_type": "markdown",
   "id": "379b4a7b",
   "metadata": {},
   "source": [
    "###### 6.1.3 metodos: verificar string\n",
    "- isupper()\n",
    "- islower()\n",
    "- startswith(prefix[, start[, end]])\n",
    "- endswith(suffix[, start[, end]]): Retorna True ou false, caso a palavra termine com o suffix."
   ]
  },
  {
   "cell_type": "markdown",
   "id": "5fe6065f",
   "metadata": {},
   "source": [
    "###### 6.1.4 metodos: Posicionar string\n",
    "- center(width[, fillchar]): centraliza\n",
    "- ljust(width[, fillchar])\n",
    "- rjust(width[, fillchar])"
   ]
  },
  {
   "cell_type": "markdown",
   "id": "39384cee",
   "metadata": {},
   "source": [
    "###### 6.1.5 metodos: Contar string e encontrar index\n",
    "- count(sub[, start[, end]]): conta\n",
    "- find(sub[, start[, end]]): Se não encontrar não da erro.\n",
    "- index(sub[, start[, end]]): Se não encontrar da erro.\n",
    "- rfind(sub[, start[, end]])\n",
    "- rindex(sub[, start[, end]])"
   ]
  },
  {
   "cell_type": "markdown",
   "id": "d0e13624",
   "metadata": {},
   "source": [
    "###### 6.1.6 metodos: formatar string, construir string\n",
    "- join(iterable): \"/\".join([\"oi\", \"eu\", \"sou\", \"o\", \"isaac\"]) = oi/eu/sou/o/isaac\n",
    "- format(*args, **kwargs)"
   ]
  },
  {
   "cell_type": "markdown",
   "id": "de811859",
   "metadata": {},
   "source": [
    "###### 6.1.7 metodos: Limpar string\n",
    "- removeprefix(prefix, /)\n",
    "- removesuffix(suffix, /)\n",
    "- replace(old, new[, count])\n",
    "- strip([chars])\n",
    "- lstrip([chars]): limpa a string do lado esquerdo.\n",
    "- rstrip([chars])"
   ]
  },
  {
   "cell_type": "markdown",
   "id": "10a8835c",
   "metadata": {},
   "source": [
    "## 7. Listas"
   ]
  },
  {
   "cell_type": "markdown",
   "id": "7d894761",
   "metadata": {},
   "source": [
    "- pegar um elemento: lista[index]\n",
    "- cortar uma parte: lista[inicio:fim]\n",
    "- cortar uma parte com passo: lista[inicio:fim:passo]"
   ]
  },
  {
   "cell_type": "markdown",
   "id": "0f5ee4c8",
   "metadata": {},
   "source": [
    "### 7.1 Listas: metodos"
   ]
  },
  {
   "cell_type": "markdown",
   "id": "84644f39",
   "metadata": {},
   "source": [
    "- append(x)\n",
    "- extend(iterable)\n",
    "- insert(i, x) \n",
    "- remove(x)\n",
    "- pop([i]): Colchetes simboliza argumento opcional.\n",
    "- clear()\n",
    "- index(x[, start[, end]])\n",
    "- count(x)\n",
    "- sort(*, key=None, reverse=False)\n",
    "- reverse(): equivalente a lista[::-1].copy()\n",
    "- copy()"
   ]
  },
  {
   "cell_type": "markdown",
   "id": "e715ad97",
   "metadata": {},
   "source": [
    "## 8. Estrutura de laço"
   ]
  },
  {
   "cell_type": "markdown",
   "id": "b9fd82fd",
   "metadata": {},
   "source": [
    "- for\n",
    "- while"
   ]
  },
  {
   "cell_type": "markdown",
   "id": "0b014024",
   "metadata": {},
   "source": [
    "## 9. Tupla"
   ]
  },
  {
   "cell_type": "markdown",
   "id": "a5cef6fa",
   "metadata": {},
   "source": [
    "- Tupla é uma lista não mutavel, não pode ser alterada apenas utilizada."
   ]
  },
  {
   "cell_type": "markdown",
   "id": "5f7acda1",
   "metadata": {},
   "source": [
    "## 10. Dicionario"
   ]
  },
  {
   "cell_type": "markdown",
   "id": "66310789",
   "metadata": {},
   "source": [
    "- Semelhante a uma lista de chave:valor."
   ]
  },
  {
   "cell_type": "markdown",
   "id": "8fcf3694",
   "metadata": {},
   "source": [
    "## 11. Conjuntos (set)"
   ]
  },
  {
   "cell_type": "markdown",
   "id": "5c386c23",
   "metadata": {},
   "source": [
    "Um objeto conjunto é uma coleção não ordenada de objetos hasheáveis distintos. Usos comuns incluem testes de associação, remover duplicatas de uma sequência e computar operações matemáticas tais como interseção, união, diferença e diferença simétrica."
   ]
  },
  {
   "cell_type": "markdown",
   "id": "785afcb9",
   "metadata": {},
   "source": [
    "## 12. Abrindo e criando arquivos"
   ]
  },
  {
   "cell_type": "markdown",
   "id": "ead0a273",
   "metadata": {},
   "source": [
    "Para abrir arquivos usamos: (retorna um objeto de arquivo)\n",
    "- open(file, mode='r', buffering=- 1, encoding=None, errors=None, newline=None, closefd=True, opener=None)"
   ]
  },
  {
   "cell_type": "markdown",
   "id": "a939fe82",
   "metadata": {},
   "source": [
    "### 12.1 Modos de aberturas"
   ]
  },
  {
   "cell_type": "markdown",
   "id": "c13a0428",
   "metadata": {},
   "source": [
    "###### 12.1.1Modos de abertura: arquivos txt\n",
    "- r: open for reading (default)\n",
    "- w: open for writing, if the files don't exists this mode will create them\n",
    "- x: open for exclusive creation, failing if the file already exists\n",
    "- a: open for writing, appending to the end of file if it exists\n",
    "- +: open for updating (reading and writing)\n",
    "- r+: open for reading and update"
   ]
  },
  {
   "cell_type": "markdown",
   "id": "780721a1",
   "metadata": {},
   "source": [
    "###### 12.1.2 Modos de abertura: outros arquivos, imagens, binarios...\n",
    "- b: binary mode\n",
    "- rb: binary mode read\n",
    "- wb: binary mode write"
   ]
  },
  {
   "cell_type": "markdown",
   "id": "d634c9ad",
   "metadata": {},
   "source": [
    "### 12.2 Manipulando um arquivo"
   ]
  },
  {
   "cell_type": "markdown",
   "id": "369e6f3d",
   "metadata": {},
   "source": [
    "###### 12.2.1 Criando e escrevendo um arquivo"
   ]
  },
  {
   "cell_type": "code",
   "execution_count": 48,
   "id": "8b2ae312",
   "metadata": {},
   "outputs": [
    {
     "data": {
      "text/plain": [
       "1"
      ]
     },
     "execution_count": 48,
     "metadata": {},
     "output_type": "execute_result"
    }
   ],
   "source": [
    "arquivo = open(\"arquivo.txt\", \"w\")\n",
    "\n",
    "for i in range(1,21,1):\n",
    "    arquivo.write(str(i)+\"\\t\")\n",
    "arquivo.write(\"\\n\")"
   ]
  },
  {
   "cell_type": "markdown",
   "id": "5cc195ba",
   "metadata": {},
   "source": [
    "###### 12.2.2 Escrevendo no final do arquivo"
   ]
  },
  {
   "cell_type": "code",
   "execution_count": 49,
   "id": "8da4fe45",
   "metadata": {},
   "outputs": [],
   "source": [
    "from string import ascii_lowercase\n",
    "arquivo = open(\"arquivo.txt\", \"a\")\n",
    "\n",
    "for letra in ascii_lowercase:\n",
    "    arquivo.write(letra+\"\\t\")"
   ]
  },
  {
   "cell_type": "markdown",
   "id": "80d3b894",
   "metadata": {},
   "source": [
    "###### 12.2.3 Lendo o arquivo"
   ]
  },
  {
   "cell_type": "markdown",
   "id": "fcac44b7",
   "metadata": {},
   "source": [
    "###### 12.2.3.1 Lendo o arquivo inteiro"
   ]
  },
  {
   "cell_type": "code",
   "execution_count": 50,
   "id": "c96c7def",
   "metadata": {
    "scrolled": false
   },
   "outputs": [
    {
     "name": "stdout",
     "output_type": "stream",
     "text": [
      "1\t2\t3\t4\t5\t6\t7\t8\t9\t10\t11\t12\t13\t14\t15\t16\t17\t18\t19\t20\t\n",
      "a\tb\tc\td\te\tf\tg\th\ti\tj\tk\tl\tm\tn\to\tp\tq\tr\ts\tt\tu\tv\tw\tx\ty\tz\t\n"
     ]
    }
   ],
   "source": [
    "arquivo = open(\"arquivo.txt\", \"r\")\n",
    "\n",
    "# print(type(arquivo.read())) # <class 'str'>\n",
    "print(arquivo.read()) # o arquivo.txt inteiro como string\n"
   ]
  },
  {
   "cell_type": "markdown",
   "id": "855d90df",
   "metadata": {},
   "source": [
    "###### 12.2.3.1 Lendo o arquivo linha por linha"
   ]
  },
  {
   "cell_type": "code",
   "execution_count": 51,
   "id": "89040403",
   "metadata": {
    "scrolled": true
   },
   "outputs": [
    {
     "name": "stdout",
     "output_type": "stream",
     "text": [
      "1\t2\t3\t4\t5\t6\t7\t8\t9\t10\t11\t12\t13\t14\t15\t16\t17\t18\t19\t20\t\n",
      "\n"
     ]
    }
   ],
   "source": [
    "arquivo = open(\"arquivo.txt\", \"r\")\n",
    "\n",
    "print(arquivo.readline()) # o arquivo.txt inteiro como string"
   ]
  },
  {
   "cell_type": "markdown",
   "id": "ebfa65ae",
   "metadata": {},
   "source": [
    "###### 12.2.3.2 Lendo o arquivo linha por linha de novo"
   ]
  },
  {
   "cell_type": "code",
   "execution_count": 52,
   "id": "c4c86d29",
   "metadata": {},
   "outputs": [
    {
     "name": "stdout",
     "output_type": "stream",
     "text": [
      "1\t2\t3\t4\t5\t6\t7\t8\t9\t10\t11\t12\t13\t14\t15\t16\t17\t18\t19\t20\t\n",
      "\n",
      "a\tb\tc\td\te\tf\tg\th\ti\tj\tk\tl\tm\tn\to\tp\tq\tr\ts\tt\tu\tv\tw\tx\ty\tz\t\n"
     ]
    }
   ],
   "source": [
    "arquivo = open(\"arquivo.txt\", \"r\")\n",
    "\n",
    "for linha in arquivo:\n",
    "    print(linha)"
   ]
  },
  {
   "cell_type": "markdown",
   "id": "6cf85b0f",
   "metadata": {},
   "source": [
    "###### 12.2.3 Lendo o arquivo"
   ]
  },
  {
   "cell_type": "markdown",
   "id": "8e034afa",
   "metadata": {},
   "source": [
    "## 13. Try e except"
   ]
  },
  {
   "cell_type": "markdown",
   "id": "97abaf10",
   "metadata": {},
   "source": [
    "Para evitar que o programa fique travando muito, usamos:\n",
    "- try\n",
    "- except"
   ]
  },
  {
   "cell_type": "markdown",
   "id": "176eb4e6",
   "metadata": {},
   "source": [
    "### 13.1 Exemplo"
   ]
  },
  {
   "cell_type": "code",
   "execution_count": 63,
   "id": "cdc66fed",
   "metadata": {},
   "outputs": [
    {
     "name": "stdout",
     "output_type": "stream",
     "text": [
      "você digitou algo errado:\t name 'asdsad' is not defined\n"
     ]
    }
   ],
   "source": [
    "try:\n",
    "#    valor = 1200/0\n",
    "    asdsad\n",
    "\n",
    "except ZeroDivisionError as erro:\n",
    "    print(\"denominador é 0:\\t\", erro)\n",
    "except NameError as erro:\n",
    "    print('você digitou algo errado:\\t', erro)"
   ]
  },
  {
   "cell_type": "markdown",
   "id": "ee936444",
   "metadata": {},
   "source": []
  },
  {
   "cell_type": "markdown",
   "id": "59c95a63",
   "metadata": {},
   "source": []
  },
  {
   "cell_type": "markdown",
   "id": "1bb7c525",
   "metadata": {},
   "source": []
  },
  {
   "cell_type": "markdown",
   "id": "361e9527",
   "metadata": {},
   "source": []
  },
  {
   "cell_type": "markdown",
   "id": "979aff7d",
   "metadata": {},
   "source": []
  },
  {
   "cell_type": "markdown",
   "id": "8109fa51",
   "metadata": {},
   "source": []
  },
  {
   "cell_type": "markdown",
   "id": "0e82219d",
   "metadata": {},
   "source": []
  },
  {
   "cell_type": "markdown",
   "id": "e9766016",
   "metadata": {},
   "source": []
  },
  {
   "cell_type": "markdown",
   "id": "0fe2098b",
   "metadata": {},
   "source": []
  },
  {
   "cell_type": "markdown",
   "id": "69ad9cf9",
   "metadata": {},
   "source": []
  },
  {
   "cell_type": "markdown",
   "id": "214158e5",
   "metadata": {},
   "source": []
  },
  {
   "cell_type": "markdown",
   "id": "c9ded5de",
   "metadata": {},
   "source": []
  },
  {
   "cell_type": "markdown",
   "id": "8018be5c",
   "metadata": {},
   "source": []
  },
  {
   "cell_type": "markdown",
   "id": "9ceb259e",
   "metadata": {},
   "source": []
  },
  {
   "cell_type": "markdown",
   "id": "74b06a08",
   "metadata": {},
   "source": []
  },
  {
   "cell_type": "markdown",
   "id": "1281998c",
   "metadata": {},
   "source": []
  },
  {
   "cell_type": "markdown",
   "id": "08cd474b",
   "metadata": {},
   "source": []
  },
  {
   "cell_type": "markdown",
   "id": "150f46ed",
   "metadata": {},
   "source": []
  },
  {
   "cell_type": "markdown",
   "id": "78ac67dd",
   "metadata": {},
   "source": []
  },
  {
   "cell_type": "markdown",
   "id": "bd1fdaf3",
   "metadata": {},
   "source": []
  },
  {
   "cell_type": "markdown",
   "id": "50f4fc2b",
   "metadata": {},
   "source": []
  },
  {
   "cell_type": "markdown",
   "id": "f05ea352",
   "metadata": {},
   "source": []
  }
 ],
 "metadata": {
  "kernelspec": {
   "display_name": "Python 3 (ipykernel)",
   "language": "python",
   "name": "python3"
  },
  "language_info": {
   "codemirror_mode": {
    "name": "ipython",
    "version": 3
   },
   "file_extension": ".py",
   "mimetype": "text/x-python",
   "name": "python",
   "nbconvert_exporter": "python",
   "pygments_lexer": "ipython3",
   "version": "3.9.6"
  }
 },
 "nbformat": 4,
 "nbformat_minor": 5
}
