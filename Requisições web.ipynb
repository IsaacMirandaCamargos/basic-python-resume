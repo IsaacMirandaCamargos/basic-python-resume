{
 "cells": [
  {
   "cell_type": "markdown",
   "id": "39dfda0b",
   "metadata": {},
   "source": [
    "# Bibliotecas usadas: requests"
   ]
  },
  {
   "cell_type": "markdown",
   "id": "b21a0446",
   "metadata": {},
   "source": [
    "## 1. Requests"
   ]
  },
  {
   "cell_type": "markdown",
   "id": "22a5b41f",
   "metadata": {},
   "source": [
    "## 1.1 Introdução:"
   ]
  },
  {
   "cell_type": "markdown",
   "id": "381dcae0",
   "metadata": {},
   "source": [
    "Requisição web consiste em entrar em um site. Toda vez que você entra em um site o você faz uma requisição pro servidor e o servidor te responde com o site.\n",
    "\n",
    "Quando faz um cadastro, você está enviando uma requisição.\n",
    "\n",
    "- get: Pedir informações. (entrar no site)\n",
    "- post: Enviar informações. (fazer um cadastro)"
   ]
  },
  {
   "cell_type": "markdown",
   "id": "05fd7810",
   "metadata": {},
   "source": [
    "Para ver as requisições que você faz em um site, ao entrar, clicar em F12 (ferramentas do desenvolvedor). Depois clicando em \"Network\" você consegue ver todas as requisições web que seu navegador fez para o servidor.\n",
    "\n",
    "Possiveis Status:\n",
    "- 200: Ta suave\n",
    "- 404: Não ta suave"
   ]
  },
  {
   "cell_type": "markdown",
   "id": "15dd5255",
   "metadata": {},
   "source": [
    "## 1.2 Ferramentas do desenvolvedor: network overview"
   ]
  },
  {
   "cell_type": "markdown",
   "id": "7a3b836a",
   "metadata": {},
   "source": [
    "###### General:\n",
    "- Request URL: endereço da requisição\n",
    "- Request Method: metodo\n",
    "- Status Code: status do pedido\n",
    "\n",
    "###### Response Headers:\n",
    "Servidor respondendo\n",
    "\n",
    "###### Request Headers:\n",
    "- User Agent: Sistema operacional de quem pediu"
   ]
  },
  {
   "cell_type": "markdown",
   "id": "6b723161",
   "metadata": {},
   "source": [
    "## 1.3 Implementação\n",
    "- site para requisições web https://putsreq.com/"
   ]
  },
  {
   "cell_type": "markdown",
   "id": "6a3eaa87",
   "metadata": {},
   "source": [
    "### 1.3.1 Metodo: get"
   ]
  },
  {
   "cell_type": "code",
   "execution_count": 12,
   "id": "4a2c9312",
   "metadata": {},
   "outputs": [
    {
     "name": "stdout",
     "output_type": "stream",
     "text": [
      "Hello World\n"
     ]
    }
   ],
   "source": [
    "import requests\n",
    "\n",
    "try:\n",
    "    requisicao = requests.get(\"https://putsreq.com/MkRkzFXoJLgjTjnc0YLc\")\n",
    "    texto = requisicao.text\n",
    "except Exception as erro:\n",
    "    print(\"DEU ERRO:\\t\", erro)\n",
    "    \n",
    "    \n",
    "type(requisicao) # <class 'requests.models.Response'>\n",
    "\n",
    "requisicao # <Response [200]>\n",
    "\n",
    "requisicao.status_code # 200\n",
    "\n",
    "print(requisicao.text) # codigo fonte do site, na forma de uma string\n"
   ]
  },
  {
   "cell_type": "markdown",
   "id": "2ef6a281",
   "metadata": {},
   "source": [
    "### 1.3.2 Metodo: post"
   ]
  },
  {
   "cell_type": "code",
   "execution_count": 13,
   "id": "78c1a9a7",
   "metadata": {},
   "outputs": [
    {
     "name": "stdout",
     "output_type": "stream",
     "text": [
      "Hello World\n"
     ]
    }
   ],
   "source": [
    "import requests\n",
    "\n",
    "cabecalho = {'USER-AGENT': \"WINDOWS MASTER\"}\n",
    "\n",
    "meus_cookies = {'ultima_visita':\"09/02/2022\"}\n",
    "\n",
    "dados = {'username':'isaac',\n",
    "        'password': \"123\"}\n",
    "\n",
    "try:\n",
    "    requisicao = requests.post(\"https://putsreq.com/MkRkzFXoJLgjTjnc0YLc\", \n",
    "                               headers=cabecalho, \n",
    "                               cookies=meus_cookies,\n",
    "                              data= dados)\n",
    "    texto = requisicao.text\n",
    "    print(texto)\n",
    "except Exception as erro:\n",
    "    print(\"DEU ERRO:\\t\", erro)\n"
   ]
  },
  {
   "cell_type": "markdown",
   "id": "563d1674",
   "metadata": {},
   "source": [
    "## 2. API: Application programing interface\n",
    "\n",
    "APIs são interfaces que você usa para se comunicar com outros programas, você passa parametros e a API retorna informações.\n",
    "\n",
    "As APIs se comunicam na forma de JSON."
   ]
  },
  {
   "cell_type": "markdown",
   "id": "7266b0cd",
   "metadata": {},
   "source": [
    "### 2.1 Pegando dados da API"
   ]
  },
  {
   "cell_type": "code",
   "execution_count": 18,
   "id": "3c6ed092",
   "metadata": {},
   "outputs": [
    {
     "data": {
      "text/plain": [
       "'{\"Title\":\"Avatar\",\"Year\":\"2009\",\"Rated\":\"PG-13\",\"Released\":\"18 Dec 2009\",\"Runtime\":\"162 min\",\"Genre\":\"Action, Adventure, Fantasy\",\"Director\":\"James Cameron\",\"Writer\":\"James Cameron\",\"Actors\":\"Sam Worthington, Zoe Saldana, Sigourney Weaver\",\"Plot\":\"A paraplegic Marine dispatched to the moon Pandora on a unique mission becomes torn between following his orders and protecting the world he feels is his home.\",\"Language\":\"English, Spanish\",\"Country\":\"United States\",\"Awards\":\"Won 3 Oscars. 89 wins & 131 nominations total\",\"Poster\":\"https://m.media-amazon.com/images/M/MV5BMTYwOTEwNjAzMl5BMl5BanBnXkFtZTcwODc5MTUwMw@@._V1_SX300.jpg\",\"Ratings\":[{\"Source\":\"Internet Movie Database\",\"Value\":\"7.8/10\"},{\"Source\":\"Rotten Tomatoes\",\"Value\":\"81%\"},{\"Source\":\"Metacritic\",\"Value\":\"83/100\"}],\"Metascore\":\"83\",\"imdbRating\":\"7.8\",\"imdbVotes\":\"1,175,601\",\"imdbID\":\"tt0499549\",\"Type\":\"movie\",\"DVD\":\"22 Apr 2010\",\"BoxOffice\":\"$760,507,625\",\"Production\":\"N/A\",\"Website\":\"N/A\",\"Response\":\"True\"}'"
      ]
     },
     "execution_count": 18,
     "metadata": {},
     "output_type": "execute_result"
    }
   ],
   "source": [
    "import requests\n",
    "\n",
    "\n",
    "req = None\n",
    "try:\n",
    "    req = requests.get('http://www.omdbapi.com/?apikey=846cc761&t=Avatar')\n",
    "except Exception as erro:\n",
    "    print(\"DEU ERRO:\\t\", erro)\n",
    "    exit()\n",
    "    \n",
    "\n",
    "req.text"
   ]
  },
  {
   "cell_type": "markdown",
   "id": "15136320",
   "metadata": {},
   "source": [
    "### 2.2 Transformando o Json em dicionario"
   ]
  },
  {
   "cell_type": "markdown",
   "id": "da7acfc0",
   "metadata": {},
   "source": [
    "- No caso dessa API, ela devolveu um JSON e vamos converter para um dicionario."
   ]
  },
  {
   "cell_type": "code",
   "execution_count": 20,
   "id": "91791fbc",
   "metadata": {},
   "outputs": [
    {
     "name": "stdout",
     "output_type": "stream",
     "text": [
      "{'Title': 'Avatar', 'Year': '2009', 'Rated': 'PG-13', 'Released': '18 Dec 2009', 'Runtime': '162 min', 'Genre': 'Action, Adventure, Fantasy', 'Director': 'James Cameron', 'Writer': 'James Cameron', 'Actors': 'Sam Worthington, Zoe Saldana, Sigourney Weaver', 'Plot': 'A paraplegic Marine dispatched to the moon Pandora on a unique mission becomes torn between following his orders and protecting the world he feels is his home.', 'Language': 'English, Spanish', 'Country': 'United States', 'Awards': 'Won 3 Oscars. 89 wins & 131 nominations total', 'Poster': 'https://m.media-amazon.com/images/M/MV5BMTYwOTEwNjAzMl5BMl5BanBnXkFtZTcwODc5MTUwMw@@._V1_SX300.jpg', 'Ratings': [{'Source': 'Internet Movie Database', 'Value': '7.8/10'}, {'Source': 'Rotten Tomatoes', 'Value': '81%'}, {'Source': 'Metacritic', 'Value': '83/100'}], 'Metascore': '83', 'imdbRating': '7.8', 'imdbVotes': '1,175,601', 'imdbID': 'tt0499549', 'Type': 'movie', 'DVD': '22 Apr 2010', 'BoxOffice': '$760,507,625', 'Production': 'N/A', 'Website': 'N/A', 'Response': 'True'}\n"
     ]
    }
   ],
   "source": [
    "import json\n",
    "\n",
    "dicionario = json.loads(req.text)\n",
    "\n",
    "print(dicionario)"
   ]
  },
  {
   "cell_type": "markdown",
   "id": "8a74ccfd",
   "metadata": {},
   "source": [
    "- Pegando o elemento que queremos"
   ]
  },
  {
   "cell_type": "code",
   "execution_count": 23,
   "id": "b21f0f4a",
   "metadata": {},
   "outputs": [
    {
     "name": "stdout",
     "output_type": "stream",
     "text": [
      "Avatar \n",
      " 2009\n"
     ]
    }
   ],
   "source": [
    "print(dicionario['Title'], '\\n', dicionario['Year'])"
   ]
  },
  {
   "cell_type": "markdown",
   "id": "c04b9e8c",
   "metadata": {},
   "source": [
    "## 3. Programa que pega informações sobre filmes\n",
    "- API: OMDB API"
   ]
  },
  {
   "cell_type": "code",
   "execution_count": 28,
   "id": "614ec425",
   "metadata": {},
   "outputs": [
    {
     "name": "stdout",
     "output_type": "stream",
     "text": [
      "Escreva o nome de um filme ou SAIR para fecharOi\n",
      "Titulo: Oi aparadektoi\n",
      "Ano: 1991–1993\n",
      "Diretor: N/A\n",
      "Atores: Giannis Bezos, Vlassis Bonatsos, Dimitra Papadopoulou\n",
      "Nota: 8.9\n",
      "Premios: N/A\n",
      "Poster: https://m.media-amazon.com/images/M/MV5BYzEzZDNhYTgtZDkyNS00YzE2LTliOWEtYTFkMDk0MDgxODA4XkEyXkFqcGdeQXVyMjIzMTQ5NjE@._V1_SX300.jpg\n",
      "\n",
      "Escreva o nome de um filme ou SAIR para fecharPeixe\n",
      "Titulo: Peixe\n",
      "Ano: 2014\n",
      "Diretor: Diogo Oliveira, Jo Serfaty\n",
      "Atores: Marcelo Braga\n",
      "Nota: N/A\n",
      "Premios: N/A\n",
      "Poster: N/A\n",
      "\n",
      "Escreva o nome de um filme ou SAIR para fecharSAIR\n",
      "Titulo: Peixe\n",
      "Ano: 2014\n",
      "Diretor: Diogo Oliveira, Jo Serfaty\n",
      "Atores: Marcelo Braga\n",
      "Nota: N/A\n",
      "Premios: N/A\n",
      "Poster: N/A\n",
      "\n"
     ]
    }
   ],
   "source": [
    "import json\n",
    "import requests\n",
    "\n",
    "\n",
    "def requisicao(titulo):\n",
    "    try:\n",
    "        req = requests.get('http://www.omdbapi.com/?apikey=846cc761&t=' + titulo)\n",
    "\n",
    "        return json.loads(req.text)\n",
    "    except Exception as erro:\n",
    "        print('DEU ERRO:\\t', erro)\n",
    "        return None\n",
    "\n",
    "\n",
    "def printar_detalhes(filme):\n",
    "    print('Titulo:', filme['Title'])\n",
    "    print('Ano:', filme['Year'])\n",
    "    print('Diretor:', filme['Director'])\n",
    "    print('Atores:', filme['Actors'])\n",
    "    print('Nota:', filme['imdbRating'])\n",
    "    print('Premios:', filme['Awards'])\n",
    "    print('Poster:', filme['Poster'])\n",
    "    print('')\n",
    "\n",
    "sair = True\n",
    "while sair:\n",
    "    \n",
    "    op = input('Escreva o nome de um filme ou SAIR para fechar')\n",
    "    \n",
    "    if op == 'SAIR':\n",
    "        sair = False\n",
    "    else:\n",
    "        filme = requisicao(op)\n",
    "    if filme['Response'] == 'False':\n",
    "        print('Filme não encontrado')\n",
    "    else:\n",
    "        printar_detalhes(filme)"
   ]
  },
  {
   "cell_type": "markdown",
   "id": "45167a27",
   "metadata": {},
   "source": [
    "## 4. Programa que pesquisa informações sobre filmes\n",
    "- API: OMDB API"
   ]
  },
  {
   "cell_type": "code",
   "execution_count": 75,
   "id": "b5b0acce",
   "metadata": {},
   "outputs": [
    {
     "name": "stdout",
     "output_type": "stream",
     "text": [
      "Escreva o nome de um filme ou SAIR para fechar: Avatar\n",
      "Avatar 5 2028\n",
      "Avatar 4 2026\n",
      "Avatar 3 2024\n",
      "Avatar 2 2022\n",
      "Avatar Purusha 2021\n",
      "My Avatar Sings Karaoke 2021\n",
      "Jing's Nightmare (Avatar: The Last Airbender) 2021\n",
      "Meet the Recruits (Avatar: The Last Airbender) 2021\n",
      "Avatar: Agni Kai 2020\n",
      "The Smuggler (Avatar: The Last Airbender) 2020\n",
      "What the Hell is my Avatar? 2020\n",
      "Death before Dishonor (Avatar: The Last Airbender) 2020\n",
      "The King's Avatar: For the Glory 2019\n",
      "Avatar The Last Airbender: Cactus Juice 2019\n",
      "James Cameron's last Avatar Meeting 2019\n",
      "Xbox Avatar Fun 2019\n",
      "The Ultimate 'Avatar: The Last Airbender' Recap Cartoon: Book Two 2019\n",
      "The Ultimate 'Avatar: The Last Airbender' Recap Cartoon: Book Three 2019\n",
      "Avatar: The King Wants You 2018\n",
      "Avatar_Ascension 2018\n",
      "The Ultimate 'Avatar: The Last Airbender' Recap Cartoon: Book One 2018\n",
      "Avatar: Flight of Passage 2017\n",
      "Avatar: The Last Airbender, Live Action Fan Film 2017\n",
      "The Avatar Project 2017\n",
      "Pandora: The World of Avatar 2017\n",
      "Avatar: The Eagle Has Landed 2016\n",
      "Avatar 2016\n",
      "Avatar: Vultures Fly 2015\n",
      "The Avatar: Next Wave 2015\n",
      "The Last Avatar 2014\n",
      "The Shazam Experience: Avatar 2013\n",
      "My Avatar Horse 2012\n",
      "Avatar 2011\n",
      "My Avatar 2011\n",
      "Avatar Spirits 2010\n",
      "Avatar: Creating the World of Pandora 2010\n",
      "Capturing Avatar 2010\n",
      "My Avatar and Me 2010\n",
      "Avatar: Production Materials 2010\n",
      "Avatar in Utopia 2010\n",
      "The Night Before Avatar 2010\n",
      "Avatar Destroys Lives 2010\n",
      "Avatar Review 2010\n",
      "Kool-Aid Man in Second Life (Avatar 4D) 2010\n",
      "Rifftrax: Avatar 2010\n",
      "Avatar 2009\n",
      "The Guild: Do You Wanna Date My Avatar 2009\n",
      "Avatar: Movie Special 2009\n",
      "Avatar: Conflict & Resolution 2009\n",
      "ITV at the Movies Avatar Special 2009\n",
      "Avatar 2008\n",
      "10th Avatar 2007\n",
      "Avatar 2006\n",
      "Avatar 2005\n",
      "Avatar: Life After Addiction 2005\n",
      "The Making of Avatar: Inside the Korean Animation Studios 2005\n",
      "Avatar. Le récit d'une longue et lente transformation 2005\n",
      "The Avatar: Child of Peace 2004\n",
      "Avatar 2003\n",
      "Blues for the Avatar 1996\n",
      "Meher Baba: Avatar of the Age 1989\n",
      "Avatar 1964\n",
      "Avatar 1941\n",
      "Vaman Avatar 1930\n",
      "Mohini Avatar 1926\n",
      "Matsya Varah Avatar 1923\n",
      "Ganesh Avatar 1922\n",
      "\n",
      "\n",
      "\n",
      "\n",
      "Escreva o nome de um filme ou SAIR para fechar: SAIR\n"
     ]
    }
   ],
   "source": [
    "import json\n",
    "import requestsAPI: OMDB API\n",
    "\n",
    "\n",
    "def pesquisa(nome):\n",
    "    pag = 1\n",
    "    movies = []\n",
    "    \n",
    "    while pag !=0:\n",
    "        try:\n",
    "            req = requests.get('http://www.omdbapi.com/?apikey=846cc761&s='+ nome + '&type=movie'+'&page={}'.format(pag))\n",
    "            #print(req.text)\n",
    "        except Exception as erro:\n",
    "            print('DEU ERRO:\\t', erro)\n",
    "        \n",
    "        # trabalhando com as informações\n",
    "        info = json.loads(req.text)\n",
    "        if info['Response'] == 'True':\n",
    "            pag+=1\n",
    "            movies.extend((info['Search']))\n",
    "        else:\n",
    "            pag=0\n",
    "    return movies\n",
    "            \n",
    "    \n",
    "def nomes(nome):\n",
    "    lista = pesquisa(nome)\n",
    "    lista.sort(key=lambda x: x['Year'], reverse=True)\n",
    "    for filme in lista:\n",
    "        print(filme['Title'], filme['Year'])\n",
    "    print('\\n\\n\\n')\n",
    "\n",
    "\n",
    "sair = True\n",
    "while sair:\n",
    "    \n",
    "    op = input('Escreva o nome de um filme ou SAIR para fechar: ')\n",
    "    \n",
    "    if op == 'SAIR':\n",
    "        sair = False\n",
    "    else:\n",
    "        nomes(op)\n",
    "    "
   ]
  },
  {
   "cell_type": "markdown",
   "id": "77910e9a",
   "metadata": {},
   "source": [
    "## 5. Programa que pesquisa filmes com um nome e pega informações sobre os 5 primeiros\n",
    "- API: OMDB API"
   ]
  },
  {
   "cell_type": "code",
   "execution_count": 90,
   "id": "f3e3b4c8",
   "metadata": {},
   "outputs": [
    {
     "name": "stdout",
     "output_type": "stream",
     "text": [
      "Alan Isaac 2021\n",
      "Isaac 2020\n",
      "Isaac Butterfield: Anti Hero 2020\n",
      "Isaac and the Ram 2020\n",
      "Isaac & Julian 2020\n",
      "\n",
      "\n",
      "\n",
      "\n",
      "Titulo: Alan Isaac\n",
      "Ano: 2021\n",
      "Diretor: L. Csillag\n",
      "Atores: Caspar Phillipson, Nina Yndis, Julie R. Ølgaard\n",
      "Nota: N/A\n",
      "Premios: N/A\n",
      "Poster: https://m.media-amazon.com/images/M/MV5BMmM4ZDJlZGMtMGM1ZS00OGUyLWIyYzMtY2RlNmJjZGVmZjllXkEyXkFqcGdeQXVyNzM1Mjc0MTM@._V1_SX300.jpg\n",
      "\n",
      "\n",
      "Titulo: Isaac\n",
      "Ano: 2019\n",
      "Diretor: Jurgis Matulevicius\n",
      "Atores: Aleksas Kazanavicius, Severija Janusauskaite, Dainius Gavenonis\n",
      "Nota: 7.1\n",
      "Premios: 5 wins & 15 nominations\n",
      "Poster: https://m.media-amazon.com/images/M/MV5BMThkNDcxZjEtYzY0ZC00OTY3LWE0MTktZmI1ODJlM2IyMWRiXkEyXkFqcGdeQXVyMjY5ODcyMDM@._V1_SX300.jpg\n",
      "\n",
      "\n",
      "Titulo: Isaac Butterfield: Anti Hero\n",
      "Ano: 2020\n",
      "Diretor: Connor Fairclough\n",
      "Atores: Isaac Butterfield, Chris Dahmen, Georgia Davies\n",
      "Nota: 5.7\n",
      "Premios: N/A\n",
      "Poster: https://m.media-amazon.com/images/M/MV5BZjJjMGJjM2MtOWU1MC00MGMxLWI5ZmYtNDdhMzdiOGQ0YjdhXkEyXkFqcGdeQXVyMzQ3NjgxNDA@._V1_SX300.jpg\n",
      "\n",
      "\n",
      "Titulo: Isaac and the Ram\n",
      "Ano: 2020\n",
      "Diretor: Jason Bradbury\n",
      "Atores: Ian Pirie\n",
      "Nota: N/A\n",
      "Premios: N/A\n",
      "Poster: https://m.media-amazon.com/images/M/MV5BZjgwYTNiYWUtNDExNS00ODk5LWE4ZWItOWEwNDUxZmM4MTcwXkEyXkFqcGdeQXVyMjQxNzY5NTc@._V1_SX300.jpg\n",
      "\n",
      "\n",
      "Titulo: Isaac\n",
      "Ano: 2019\n",
      "Diretor: Jurgis Matulevicius\n",
      "Atores: Aleksas Kazanavicius, Severija Janusauskaite, Dainius Gavenonis\n",
      "Nota: 7.1\n",
      "Premios: 5 wins & 15 nominations\n",
      "Poster: https://m.media-amazon.com/images/M/MV5BMThkNDcxZjEtYzY0ZC00OTY3LWE0MTktZmI1ODJlM2IyMWRiXkEyXkFqcGdeQXVyMjY5ODcyMDM@._V1_SX300.jpg\n",
      "\n",
      "\n"
     ]
    }
   ],
   "source": [
    "import json\n",
    "import requests\n",
    "\n",
    "\n",
    "def pesquisa(nome):\n",
    "    pag = 1\n",
    "    movies = []\n",
    "    \n",
    "    while pag !=0:\n",
    "        try:\n",
    "            req = requests.get('http://www.omdbapi.com/?apikey=846cc761&s='+ nome + '&type=movie'+'&page={}'.format(pag))\n",
    "            #print(req.text)\n",
    "        except Exception as erro:\n",
    "            print('DEU ERRO:\\t', erro)\n",
    "        \n",
    "        # trabalhando com as informações\n",
    "        info = json.loads(req.text)\n",
    "        if info['Response'] == 'True':\n",
    "            pag+=1\n",
    "            movies.extend((info['Search']))\n",
    "        else:\n",
    "            pag=0\n",
    "    return movies\n",
    "            \n",
    "    \n",
    "def nomes(nome):\n",
    "    lista = pesquisa(nome)\n",
    "    lista.sort(key=lambda x: x['Year'], reverse=True)\n",
    "    lista = lista[0:5]\n",
    "    \n",
    "    for filme in lista:\n",
    "        print(filme['Title'], filme['Year'])\n",
    "    print('\\n\\n\\n')\n",
    "    return lista\n",
    "    \n",
    "def requisicao(titulo):\n",
    "    try:\n",
    "        req = requests.get('http://www.omdbapi.com/?apikey=846cc761&t=' + titulo)\n",
    "\n",
    "        return json.loads(req.text)\n",
    "    except Exception as erro:\n",
    "        print('DEU ERRO:\\t', erro)\n",
    "        return None\n",
    "\n",
    "\n",
    "def printar_detalhes(filme):\n",
    "    print('Titulo:', filme['Title'])\n",
    "    print('Ano:', filme['Year'])\n",
    "    print('Diretor:', filme['Director'])\n",
    "    print('Atores:', filme['Actors'])\n",
    "    print('Nota:', filme['imdbRating'])\n",
    "    print('Premios:', filme['Awards'])\n",
    "    print('Poster:', filme['Poster'])\n",
    "    print('\\n')\n",
    "\n",
    "def tudo_junto(nome):\n",
    "    lista = nomes(nome)\n",
    "    for i in lista:\n",
    "        filme = requisicao(i['Title'])\n",
    "        printar_detalhes(filme)\n",
    "\n",
    "tudo_junto('Isaac')"
   ]
  },
  {
   "cell_type": "markdown",
   "id": "942f0dbe",
   "metadata": {},
   "source": [
    "## 6. Expressões regulares basico"
   ]
  },
  {
   "cell_type": "markdown",
   "id": "a086f402",
   "metadata": {},
   "source": [
    "### 6.1 Funções basicas"
   ]
  },
  {
   "cell_type": "code",
   "execution_count": 117,
   "id": "362fc3ee",
   "metadata": {},
   "outputs": [
    {
     "name": "stdout",
     "output_type": "stream",
     "text": [
      "<re.Match object; span=(2, 5), match='RPG'>\n",
      "RPG\n",
      "(2, 5) \n",
      "\n",
      "\n",
      "\n",
      "['RPG', 'RPG', 'RPG', 'RPG'] \n",
      "\n",
      "\n",
      "\n",
      "<callable_iterator object at 0x000001F677FEB400>\n",
      "[<re.Match object; span=(2, 5), match='RPG'>, <re.Match object; span=(18, 21), match='RPG'>, <re.Match object; span=(159, 162), match='RPG'>, <re.Match object; span=(435, 438), match='RPG'>]\n",
      "[(2, 5), (18, 21), (159, 162), (435, 438)] \n",
      "\n",
      "\n",
      "\n",
      "O RPG É MUITO LEGALLLLLLLL de mesa, ou RPG É MUITO LEGALLLLLLLL de papel e caneta, é um jogo que lembra muito os clássicos jogos de tabuleiro, \n",
      "porém com possibilidades mais amplas. Do inglês, a sigla RPG É MUITO LEGALLLLLLLL significa \"Role Playing Game\", \n",
      "um jogo de interpretar papéis. Neste caso o jogador não é apenas um pino andando em casas de um tabuleiro, \n",
      "ele interpreta um personagem, com emoções, falas e habilidades enquanto atravessa um mundo fantástico. \n",
      "Ensinaremos aqui como jogar RPG É MUITO LEGALLLLLLLL de mesa.\n",
      " \n",
      "\n",
      "\n",
      "\n"
     ]
    }
   ],
   "source": [
    "import re\n",
    "\n",
    "texto = \"\"\"O RPG de mesa, ou RPG de papel e caneta, é um jogo que lembra muito os clássicos jogos de tabuleiro, \n",
    "porém com possibilidades mais amplas. Do inglês, a sigla RPG significa \"Role Playing Game\", \n",
    "um jogo de interpretar papéis. Neste caso o jogador não é apenas um pino andando em casas de um tabuleiro, \n",
    "ele interpreta um personagem, com emoções, falas e habilidades enquanto atravessa um mundo fantástico. \n",
    "Ensinaremos aqui como jogar RPG de mesa.\n",
    "\"\"\"\n",
    "\n",
    "pesquisa = re.search(r'rpg', texto, flags=re.IGNORECASE)\n",
    "print(pesquisa)\n",
    "print(pesquisa.group())\n",
    "print(pesquisa.span(), \"\\n\\n\\n\")\n",
    "\n",
    "pesquisa_all = re.findall(r'rpg', texto, flags=re.IGNORECASE)\n",
    "print(pesquisa_all, \"\\n\\n\\n\")\n",
    "\n",
    "indexes = re.finditer(r'rpg', texto, flags=re.IGNORECASE)\n",
    "index = [i for i in indexes] \n",
    "print(indexes)\n",
    "print(index)\n",
    "print([i.span() for i in index], '\\n\\n\\n')\n",
    "\n",
    "substituição = re.sub(r'rpg', r'RPG É MUITO LEGALLLLLLLL' ,texto, flags=re.IGNORECASE)\n",
    "print(substituição, \"\\n\\n\\n\")\n",
    "\n"
   ]
  },
  {
   "cell_type": "markdown",
   "id": "e65bc2d9",
   "metadata": {},
   "source": [
    "### 6.2 Pegando emails"
   ]
  },
  {
   "cell_type": "code",
   "execution_count": 121,
   "id": "193f869c",
   "metadata": {},
   "outputs": [
    {
     "name": "stdout",
     "output_type": "stream",
     "text": [
      "['isaac@hotmail.com', 'abers@gmail.com.br', 'fasapev588@porjoton.com']\n"
     ]
    }
   ],
   "source": [
    "import re\n",
    "\n",
    "texto = \"isaac@hotmail.com abers@gmail.com.br fasapev588@porjoton.com\"\n",
    "\n",
    "lista = re.findall(r'[\\w\\d-]+@[\\w-]+.\\w+[\\.\\w]*', texto)\n",
    "\n",
    "print(lista)\n",
    "\n"
   ]
  },
  {
   "cell_type": "markdown",
   "id": "15d893b6",
   "metadata": {},
   "source": [
    "## 7. API de cotações\n",
    "- AwesomeAPI"
   ]
  },
  {
   "cell_type": "markdown",
   "id": "f83ac8e8",
   "metadata": {},
   "source": [
    "### 7.1 Cotação do dolar"
   ]
  },
  {
   "cell_type": "code",
   "execution_count": 155,
   "id": "16bfbbd9",
   "metadata": {},
   "outputs": [
    {
     "name": "stdout",
     "output_type": "stream",
     "text": [
      "Dólar Americano/Real Brasileiro\n",
      "minimo: 5.2358\n",
      "maximo: 5.2359\n",
      "data: 09/02/2022\n",
      "\n",
      "Euro/Real Brasileiro\n",
      "minimo: 5.9809\n",
      "maximo: 5.984\n",
      "data: 09/02/2022\n",
      "\n",
      "Bitcoin/Real Brasileiro\n",
      "minimo: 228.95\n",
      "maximo: 235.951\n",
      "data: 09/02/2022\n",
      "\n"
     ]
    }
   ],
   "source": [
    "import requests\n",
    "import json\n",
    "\n",
    "def pegar_dados():\n",
    "    try:\n",
    "        req = requests.get('https://economia.awesomeapi.com.br/last/USD-BRL,EUR-BRL,BTC-BRL')\n",
    "    except Exception as erro:\n",
    "        print('DEU ERRO:\\t', erro)\n",
    "        \n",
    "    return json.loads(req.text)\n",
    "\n",
    "\n",
    "\n",
    "def pegando_info(cotacao):\n",
    "    for key in cotacao:\n",
    "        name = cotacao[key]['name']\n",
    "        minimo = \"minimo: \" + cotacao[key]['low']\n",
    "        maximo = \"maximo: \" + cotacao[key]['high']\n",
    "        data = \"data: \" + '/'.join(cotacao[key]['create_date'].split()[0].split(\"-\")[::-1])\n",
    "        info = \"\\n\".join([name,minimo,maximo,data]) + \"\\n\"\n",
    "        print(info)\n",
    "\n",
    "pegando_info(pegar_dados())\n",
    "\n"
   ]
  },
  {
   "cell_type": "markdown",
   "id": "485fd83b",
   "metadata": {},
   "source": []
  },
  {
   "cell_type": "markdown",
   "id": "e7ac9bb0",
   "metadata": {},
   "source": []
  },
  {
   "cell_type": "markdown",
   "id": "9ccd7a0a",
   "metadata": {},
   "source": []
  },
  {
   "cell_type": "markdown",
   "id": "02c430a7",
   "metadata": {},
   "source": []
  },
  {
   "cell_type": "markdown",
   "id": "bd7600a8",
   "metadata": {},
   "source": []
  },
  {
   "cell_type": "markdown",
   "id": "5d2d9e3d",
   "metadata": {},
   "source": []
  },
  {
   "cell_type": "markdown",
   "id": "33274353",
   "metadata": {},
   "source": []
  }
 ],
 "metadata": {
  "kernelspec": {
   "display_name": "Python 3 (ipykernel)",
   "language": "python",
   "name": "python3"
  },
  "language_info": {
   "codemirror_mode": {
    "name": "ipython",
    "version": 3
   },
   "file_extension": ".py",
   "mimetype": "text/x-python",
   "name": "python",
   "nbconvert_exporter": "python",
   "pygments_lexer": "ipython3",
   "version": "3.9.6"
  }
 },
 "nbformat": 4,
 "nbformat_minor": 5
}
