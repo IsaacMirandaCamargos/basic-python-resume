{
 "cells": [
  {
   "cell_type": "markdown",
   "id": "96546ab9",
   "metadata": {},
   "source": [
    "# Bibliotecas usadas: requests"
   ]
  },
  {
   "cell_type": "markdown",
   "id": "61d5b4a7",
   "metadata": {},
   "source": [
    "## 1. Requests"
   ]
  },
  {
   "cell_type": "markdown",
   "id": "b4de2e5a",
   "metadata": {},
   "source": [
    "## 1.1 Introdução:"
   ]
  },
  {
   "cell_type": "markdown",
   "id": "0a034276",
   "metadata": {},
   "source": [
    "Requisição web consiste em entrar em um site. Toda vez que você entra em um site o você faz uma requisição pro servidor e o servidor te responde com o site.\n",
    "\n",
    "Quando faz um cadastro, você está enviando uma requisição.\n",
    "\n",
    "- get: Pedir informações. (entrar no site)\n",
    "- post: Enviar informações. (fazer um cadastro)"
   ]
  },
  {
   "cell_type": "markdown",
   "id": "7fe91e94",
   "metadata": {},
   "source": [
    "Para ver as requisições que você faz em um site, ao entrar, clicar em F12 (ferramentas do desenvolvedor). Depois clicando em \"Network\" você consegue ver todas as requisições web que seu navegador fez para o servidor.\n",
    "\n",
    "Possiveis Status:\n",
    "- 200: Ta suave\n",
    "- 404: Não ta suave"
   ]
  },
  {
   "cell_type": "markdown",
   "id": "74ea1466",
   "metadata": {},
   "source": [
    "## 1.2 Ferramentas do desenvolvedor: network overview"
   ]
  },
  {
   "cell_type": "markdown",
   "id": "07c5f10e",
   "metadata": {},
   "source": [
    "###### General:\n",
    "- Request URL: endereço da requisição\n",
    "- Request Method: metodo\n",
    "- Status Code: status do pedido\n",
    "\n",
    "###### Response Headers:\n",
    "Servidor respondendo\n",
    "\n",
    "###### Request Headers:\n",
    "- User Agent: Sistema operacional de quem pediu"
   ]
  },
  {
   "cell_type": "markdown",
   "id": "1c172756",
   "metadata": {},
   "source": [
    "## 1.3 Implementação"
   ]
  },
  {
   "cell_type": "markdown",
   "id": "79678cae",
   "metadata": {},
   "source": [
    "### 1.3.1 Metodo: get"
   ]
  },
  {
   "cell_type": "code",
   "execution_count": 16,
   "id": "98ba5dca",
   "metadata": {},
   "outputs": [
    {
     "name": "stdout",
     "output_type": "stream",
     "text": [
      "Hello World\n"
     ]
    }
   ],
   "source": [
    "import requests\n",
    "\n",
    "try:\n",
    "    requisicao = requests.get(\"https://putsreq.com/MkRkzFXoJLgjTjnc0YLc\")\n",
    "    texto = requisicao.text\n",
    "except Exception as erro:\n",
    "    print(\"DEU ERRO:\\t\", erro)\n",
    "    \n",
    "    \n",
    "type(requisicao) # <class 'requests.models.Response'>\n",
    "\n",
    "requisicao # <Response [200]>\n",
    "\n",
    "requisicao.status_code # 200\n",
    "\n",
    "print(requisicao.text) # codigo fonte do site, na forma de uma string\n"
   ]
  },
  {
   "cell_type": "markdown",
   "id": "4d2cf97a",
   "metadata": {},
   "source": [
    "### 1.3.2 Metodo: post"
   ]
  },
  {
   "cell_type": "code",
   "execution_count": 28,
   "id": "00672d7f",
   "metadata": {},
   "outputs": [
    {
     "name": "stdout",
     "output_type": "stream",
     "text": [
      "Hello World\n"
     ]
    }
   ],
   "source": [
    "import requests\n",
    "\n",
    "cabecalho = {'USER-AGENT': \"WINDOWS MASTER\"}\n",
    "\n",
    "meus_cookies = {'ultima_visita':\"09/02/2022\"}\n",
    "\n",
    "dados = {'username':'isaac',\n",
    "        'password': \"123\"}\n",
    "\n",
    "try:\n",
    "    requisicao = requests.post(\"https://putsreq.com/MkRkzFXoJLgjTjnc0YLc\", \n",
    "                               headers=cabecalho, \n",
    "                               cookies=meus_cookies,\n",
    "                              data= dados)\n",
    "    texto = requisicao.text\n",
    "    print(texto)\n",
    "except Exception as erro:\n",
    "    print(\"DEU ERRO:\\t\", erro)\n"
   ]
  },
  {
   "cell_type": "markdown",
   "id": "e38ee011",
   "metadata": {},
   "source": [
    "## 1.4 Site para fazer requisições\n",
    "- https://putsreq.com/"
   ]
  },
  {
   "cell_type": "markdown",
   "id": "78173bac",
   "metadata": {},
   "source": []
  },
  {
   "cell_type": "markdown",
   "id": "39f75008",
   "metadata": {},
   "source": []
  },
  {
   "cell_type": "markdown",
   "id": "b5db6c7d",
   "metadata": {},
   "source": []
  },
  {
   "cell_type": "markdown",
   "id": "78a565dd",
   "metadata": {},
   "source": []
  },
  {
   "cell_type": "markdown",
   "id": "71b05c60",
   "metadata": {},
   "source": []
  },
  {
   "cell_type": "markdown",
   "id": "94fffd68",
   "metadata": {},
   "source": []
  },
  {
   "cell_type": "markdown",
   "id": "cf4e30a7",
   "metadata": {},
   "source": []
  },
  {
   "cell_type": "markdown",
   "id": "bbfc8696",
   "metadata": {},
   "source": []
  },
  {
   "cell_type": "markdown",
   "id": "a8c4a337",
   "metadata": {},
   "source": []
  },
  {
   "cell_type": "markdown",
   "id": "b8fc7518",
   "metadata": {},
   "source": []
  },
  {
   "cell_type": "markdown",
   "id": "791feb62",
   "metadata": {},
   "source": []
  },
  {
   "cell_type": "markdown",
   "id": "e58d2747",
   "metadata": {},
   "source": []
  },
  {
   "cell_type": "markdown",
   "id": "ffc65947",
   "metadata": {},
   "source": []
  },
  {
   "cell_type": "markdown",
   "id": "42491822",
   "metadata": {},
   "source": []
  },
  {
   "cell_type": "markdown",
   "id": "06dcf676",
   "metadata": {},
   "source": []
  },
  {
   "cell_type": "markdown",
   "id": "0557828c",
   "metadata": {},
   "source": []
  },
  {
   "cell_type": "markdown",
   "id": "493bc846",
   "metadata": {},
   "source": []
  },
  {
   "cell_type": "markdown",
   "id": "d45029b9",
   "metadata": {},
   "source": []
  },
  {
   "cell_type": "markdown",
   "id": "0f335c2f",
   "metadata": {},
   "source": []
  },
  {
   "cell_type": "markdown",
   "id": "18514579",
   "metadata": {},
   "source": []
  },
  {
   "cell_type": "markdown",
   "id": "ea537f1f",
   "metadata": {},
   "source": []
  },
  {
   "cell_type": "markdown",
   "id": "5ce0095c",
   "metadata": {},
   "source": []
  }
 ],
 "metadata": {
  "kernelspec": {
   "display_name": "Python 3 (ipykernel)",
   "language": "python",
   "name": "python3"
  },
  "language_info": {
   "codemirror_mode": {
    "name": "ipython",
    "version": 3
   },
   "file_extension": ".py",
   "mimetype": "text/x-python",
   "name": "python",
   "nbconvert_exporter": "python",
   "pygments_lexer": "ipython3",
   "version": "3.9.6"
  }
 },
 "nbformat": 4,
 "nbformat_minor": 5
}
