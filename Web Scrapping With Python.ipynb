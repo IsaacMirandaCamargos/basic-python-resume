{
 "cells": [
  {
   "cell_type": "markdown",
   "id": "f8708f1b",
   "metadata": {},
   "source": [
    "# Web Scrapping\n",
    "- Web scrapping consiste em retirar informações da internet de forma automatica."
   ]
  },
  {
   "cell_type": "markdown",
   "id": "97ffa189",
   "metadata": {},
   "source": [
    "## 1. Introdução do HTML\n",
    "- HTML significa Hyper Markup Language, o HTML nada mais é que uma linguagem de marcação a qual é utilizada na criação de sites.\n",
    "- O HTML funciona como uma linguagem de marcação (tags)\n",
    "\n",
    "### 1.1 Tags HTML\n",
    "\n",
    "As tags são limitadas por \"<\" e \">\". As tags geralmente contem 3 elementos:\n",
    "- tag de abertura\n",
    "- conteudo\n",
    "- tag de fechamento\n",
    "\n",
    "Exemplo:"
   ]
  },
  {
   "cell_type": "code",
   "execution_count": 1,
   "id": "5cbc3bf4",
   "metadata": {},
   "outputs": [],
   "source": [
    "# <p> isso é um paragrafo </p>"
   ]
  },
  {
   "cell_type": "markdown",
   "id": "357d0d33",
   "metadata": {},
   "source": [
    "## 1.2 Tags: head\n",
    "Dentro da tag \"head\" colocamos a tag \"title\" e outras tags que estão relacionadas as fontes que importamos ao nosso site."
   ]
  },
  {
   "cell_type": "code",
   "execution_count": null,
   "id": "40a1c00b",
   "metadata": {},
   "outputs": [],
   "source": [
    "# <head> \n",
    "#     <title> Nome que vai aparecer na aba do google chrome </title>\n",
    "# </head>"
   ]
  },
  {
   "cell_type": "markdown",
   "id": "63382ac2",
   "metadata": {},
   "source": [
    "## 1.3 Tags: body\n",
    "Dentro da tag \"body\" colocamos tudo o que nosso site vai ter, por exemplo paragrafos com a tag \"p\"."
   ]
  },
  {
   "cell_type": "code",
   "execution_count": 2,
   "id": "8d49b5df",
   "metadata": {},
   "outputs": [],
   "source": [
    "# <body>\n",
    "#     <p> texto </p>\n",
    "# </body>"
   ]
  },
  {
   "cell_type": "markdown",
   "id": "47b52b9e",
   "metadata": {},
   "source": [
    "## 1.4 Tags: principais tags"
   ]
  },
  {
   "cell_type": "code",
   "execution_count": 3,
   "id": "78f2c1ed",
   "metadata": {},
   "outputs": [],
   "source": [
    "# <html></html> : Conteúdo HTML\n",
    "# <head></head> : Cabeçalho do documento\n",
    "# <title></title> : Titulo da pagina HTML\n",
    "# <body></body> : Corpo do documento (pagina)\n",
    "# <h1></h1> Cabeçalho de nivel 1 (pode variar de 1 a 6)\n",
    "# <p></p> : Parágrafo\n",
    "# <div></div> : Conteudo genérico"
   ]
  },
  {
   "cell_type": "markdown",
   "id": "bf356fdf",
   "metadata": {},
   "source": []
  },
  {
   "cell_type": "markdown",
   "id": "733f0b42",
   "metadata": {},
   "source": [
    "# Referencias\n",
    "- https://www.youtube.com/watch?v=42sTntMEn6o&list=PLg3ZPsW_sghSkRacynznQeEs-vminyTQk"
   ]
  }
 ],
 "metadata": {
  "kernelspec": {
   "display_name": "Python 3 (ipykernel)",
   "language": "python",
   "name": "python3"
  },
  "language_info": {
   "codemirror_mode": {
    "name": "ipython",
    "version": 3
   },
   "file_extension": ".py",
   "mimetype": "text/x-python",
   "name": "python",
   "nbconvert_exporter": "python",
   "pygments_lexer": "ipython3",
   "version": "3.9.6"
  }
 },
 "nbformat": 4,
 "nbformat_minor": 5
}
