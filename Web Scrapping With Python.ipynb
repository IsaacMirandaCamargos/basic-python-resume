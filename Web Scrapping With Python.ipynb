{
 "cells": [
  {
   "cell_type": "markdown",
   "id": "8d5f0dd7",
   "metadata": {},
   "source": [
    "# Web Scrapping\n",
    "- Web scrapping consiste em retirar informações da internet de forma automatica."
   ]
  },
  {
   "cell_type": "markdown",
   "id": "279672d7",
   "metadata": {},
   "source": [
    "## 1. Introdução do HTML\n",
    "- HTML significa Hyper Markup Language, o HTML nada mais é que uma linguagem de marcação a qual é utilizada na criação de sites.\n",
    "- O HTML funciona como uma linguagem de marcação (tags)\n",
    "- Algumas tags possuem atributos, que ficam referenciados dentro da tag de abertura."
   ]
  },
  {
   "cell_type": "markdown",
   "id": "b62d27d8",
   "metadata": {},
   "source": [
    "### 1.1 Tags HTML\n",
    "\n",
    "As tags são limitadas por \"<\" e \">\". As tags geralmente contem 3 elementos:\n",
    "- tag de abertura\n",
    "- conteudo\n",
    "- tag de fechamento"
   ]
  },
  {
   "cell_type": "code",
   "execution_count": 1,
   "id": "b4a66f35",
   "metadata": {},
   "outputs": [],
   "source": [
    "# <p> isso é um paragrafo </p>"
   ]
  },
  {
   "cell_type": "markdown",
   "id": "8e06e133",
   "metadata": {},
   "source": [
    "### 1.2 Tags: head\n",
    "Dentro da tag \"head\" colocamos a tag \"title\" e outras tags que estão relacionadas as fontes que importamos ao nosso site."
   ]
  },
  {
   "cell_type": "code",
   "execution_count": null,
   "id": "7fb0a4bf",
   "metadata": {},
   "outputs": [],
   "source": [
    "# <head> \n",
    "#     <title> Nome que vai aparecer na aba do google chrome </title>\n",
    "# </head>"
   ]
  },
  {
   "cell_type": "markdown",
   "id": "91dd9cb1",
   "metadata": {},
   "source": [
    "### 1.3 Tags: body\n",
    "Dentro da tag \"body\" colocamos tudo o que nosso site vai ter, por exemplo paragrafos com a tag \"p\"."
   ]
  },
  {
   "cell_type": "code",
   "execution_count": 2,
   "id": "f4ceefad",
   "metadata": {},
   "outputs": [],
   "source": [
    "# <body>\n",
    "#     <p> texto </p>\n",
    "# </body>"
   ]
  },
  {
   "cell_type": "markdown",
   "id": "b9e1b56f",
   "metadata": {},
   "source": [
    "### 1.4 Tags: principais tags"
   ]
  },
  {
   "cell_type": "code",
   "execution_count": 3,
   "id": "557d78de",
   "metadata": {},
   "outputs": [],
   "source": [
    "# <html></html> : Conteúdo HTML\n",
    "# <head></head> : Cabeçalho do documento\n",
    "# <title></title> : Titulo da pagina HTML\n",
    "# <body></body> : Corpo do documento (pagina)\n",
    "# <h1></h1> Cabeçalho de nivel 1 (pode variar de 1 a 6)\n",
    "# <p></p> : Parágrafo\n",
    "# <div></div> : Conteudo genérico"
   ]
  },
  {
   "cell_type": "code",
   "execution_count": 4,
   "id": "bc3b501d",
   "metadata": {},
   "outputs": [],
   "source": [
    "# <a target=\"_blank\" href=\"link\"></a>\n",
    "# <span></span> : Conteudo genérico em linha\n",
    "# <table></table> : Tabela\n",
    "# <ul></ul> : Lista não numerada\n",
    "# <ol></ol> : Lista numerada\n",
    "# <li></li> : Elemento da lista (<ul> ou <ol>)\n",
    "# <img width=\"200px\"src=\"diretorio_do_pc.png\" alt=\"descrição da imagem\"> : Imagem"
   ]
  },
  {
   "cell_type": "markdown",
   "id": "db182cef",
   "metadata": {},
   "source": [
    "## 2. Protocolo HTTP\n",
    "- Protocolo: Padronização do envio e recebimento de informações.\n",
    "- HTTP: HyperText Transfer Protocol\n",
    "\n",
    "O protocolo HTTP é uma forma padronizada de fazer requisições e receber respostas na internet. Quando fazemos uma requisição na internet, o computador ira procurar qual computador possui aquele endereço que queremos acessar e quando ele acha esse computador, servidor, o servidor nos enviará uma resposta.\n",
    "\n",
    "- O protocolo HTTP consiste em:\n",
    "    - Define o modo como sites são acessados na internet.\n",
    "    - Requisição -> resposta\n",
    "    \n",
    "    \n",
    "- As respostas das requisições são strings padronizadas, que consistem em:\n",
    "    - Código de status.\n",
    "    - Cabeçalho.\n",
    "    - Conteúdo."
   ]
  },
  {
   "cell_type": "markdown",
   "id": "9b7d866e",
   "metadata": {},
   "source": [
    "### 2.1 Metodos HTTP\n",
    "Há varios metodos HTTP que permitem que façamos varias coisas, abaixo temos alguns:\n",
    "\n",
    "- GET: Solicita um recurso para o servidor (acessar uma página da web, por exemplo)\n",
    "- POST: Enviamos uma informação para o servidor. (cadastro de uma conta em um site)"
   ]
  },
  {
   "cell_type": "markdown",
   "id": "85025cb1",
   "metadata": {},
   "source": [
    "### 2.2 Códigos de status\n",
    "Os codigos de status são divididos em familias, abaixo temos alguns exemplos:\n",
    "- Familia: Descrição\n",
    "    - Informativo (1xx): Repostas sem conteúdo, contendo apenas informações sobre a comunicação.\n",
    "    - Sucesso (2xx): A mensagem chegou ao servidor e era válida.\n",
    "    - Redirecionamento: (3xx): O recurso buscado está em outro servidor.\n",
    "    - Erro do cliente (4xx): A requisição possui algum erro.\n",
    "    - Erro do servidor (5xx): O servidor não pode atender a requisição."
   ]
  },
  {
   "cell_type": "markdown",
   "id": "76a0f43f",
   "metadata": {},
   "source": [
    "## 3. Biblioteca: requests\n",
    "Para poder fazer GETs e POSTs, usaremos a biblioteca requests."
   ]
  },
  {
   "cell_type": "markdown",
   "id": "f76dd4c6",
   "metadata": {},
   "source": [
    "### 3.1 Requests: GET"
   ]
  },
  {
   "cell_type": "code",
   "execution_count": 8,
   "id": "e2ca2bcd",
   "metadata": {},
   "outputs": [
    {
     "name": "stdout",
     "output_type": "stream",
     "text": [
      "200 \n",
      "\n",
      "\n",
      "{'Content-Type': 'text/html', 'Transfer-Encoding': 'chunked', 'Connection': 'keep-alive', 'Date': 'Tue, 15 Feb 2022 21:22:56 GMT', 'Last-Modified': 'Tue, 15 Feb 2022 21:21:46 GMT', 'ETag': 'W/\"5ee2307a6752569f7fa2a6d8fa35e06d\"', 'Server': 'AmazonS3', 'Content-Encoding': 'gzip', 'Vary': 'Accept-Encoding', 'X-Cache': 'Error from cloudfront', 'Via': '1.1 938c261722fd293e9d30811560cf3cd6.cloudfront.net (CloudFront)', 'X-Amz-Cf-Pop': 'GRU3-C1', 'X-Amz-Cf-Id': 'z7h4L039m5rF7NjOO08AE1LsRXWAmmMpGbfVK_g5ZL6B7ZkbihMrXQ==', 'Age': '58216'} \n",
      "\n",
      "\n",
      "b'<!doctype html><html lang=\"en\"><head><meta charset=\"UTF-8\"><meta http-equiv=\"X-UA-Compatible\" content=\"ie=edge\"><link rel=\"manifest\" href=\"/manifest.json\"><link rel=\"apple-touch-icon\" sizes=\"180x180\" href=\"/favicon/apple-touch-icon.png\"><link rel=\"shortcut icon\" type=\"image/png\" href=\"/favicon/apple-touch-icon.png\"><link rel=\"shortcut icon\" type=\"image/png\" sizes=\"32x32\" href=\"/favicon/favicon-32x32.png\"><link rel=\"shortcut icon\" type=\"image/png\" sizes=\"16x16\" href=\"/favicon/favicon-16x16.png\"><link rel=\"mask-icon\" href=\"/favicon/safari-pinned-tab.svg\" color=\"#5bbad5\"><meta name=\"msapplication-TileColor\" content=\"#2b5797\"><meta name=\"theme-color\" content=\"#ffffff\"><script>window.onerror = function (message, url, lineNo, colNo, error) {\\r\\n  \\r\\n        console.log(arguments);\\r\\n  \\r\\n        let container = document.createElement(\\'div\\');\\r\\n  \\r\\n        container.style.color = \\'red\\';\\r\\n        container.style.position = \\'fixed\\';\\r\\n        container.style.background = \\'#eee\\';\\r\\n        container.style.padding = \\'2em\\';\\r\\n        container.style.top = \\'1em\\';\\r\\n        container.style.left = \\'1em\\';\\r\\n  \\r\\n        let msg = document.createElement(\\'pre\\');\\r\\n        msg.innerText = [\\r\\n          \\'Message: \\' + message,\\r\\n          \\'URL: \\' + url,\\r\\n          \\'Line: \\' + lineNo,\\r\\n          \\'Column: \\' + colNo,\\r\\n          \\'Stack: \\' + (error && error.stack)\\r\\n        ].join(\\'\\\\n\\');\\r\\n  \\r\\n        container.appendChild(msg);\\r\\n  \\r\\n        document.body.appendChild(container);\\r\\n      };</script><meta property=\"og:image\" content=\"/favicon/android-chrome-256x256.png\"><meta name=\"twitter:image\" content=\"/favicon/android-chrome-256x256.png\"><link href=\"https://fonts.googleapis.com/css?family=Open+Sans:400,600,700&display=swap\" rel=\"stylesheet\"><link rel=\"stylesheet\" href=\"https://stackpath.bootstrapcdn.com/bootstrap/4.1.3/css/bootstrap.min.css\" integrity=\"sha384-MCw98/SFnGE8fJT3GXwEOngsV7Zt27NXFoaoApmYm81iuXoPkFOJwJ8ERdknLPMO\" crossorigin=\"anonymous\"><script defer=\"defer\" src=\"https://code.jquery.com/jquery-3.3.1.slim.min.js\" integrity=\"sha384-q8i/X+965DzO0rT7abK41JStQIAqVgRVzpbzo5smXKp4YfRvH+8abtTE1Pi6jizo\" crossorigin=\"anonymous\"></script><script defer=\"defer\" src=\"https://cdnjs.cloudflare.com/ajax/libs/popper.js/1.14.3/umd/popper.min.js\" integrity=\"sha384-ZMP7rVo3mIykV+2+9J3UJ46jBk0WLaUAdn689aCwoqbBJiSnjAK/l8WvCWPIPm49\" crossorigin=\"anonymous\"></script><script defer=\"defer\" src=\"https://stackpath.bootstrapcdn.com/bootstrap/4.1.3/js/bootstrap.min.js\" integrity=\"sha384-ChfqqxuZUCnJSK3+MXmPNIyE6ZbWh2IMqE241rYiqJxyMiZ6OW/JmZQ5stwEULTy\" crossorigin=\"anonymous\"></script><meta name=\"google-site-verification\" content=\"ge2ESoQAbCUbStIYdQvRTUEyE8AJ-xaYctud-EZEWTM\"/><link href=\"/static/css/2.a42ec9b2.chunk.css\" rel=\"stylesheet\"><link href=\"/static/css/main.b32953f5.chunk.css\" rel=\"stylesheet\"></head><body><div id=\"root\"></div><script>!function(i){function e(e){for(var r,t,n=e[0],o=e[1],u=e[2],l=0,f=[];l<n.length;l++)t=n[l],Object.prototype.hasOwnProperty.call(c,t)&&c[t]&&f.push(c[t][0]),c[t]=0;for(r in o)Object.prototype.hasOwnProperty.call(o,r)&&(i[r]=o[r]);for(s&&s(e);f.length;)f.shift()();return p.push.apply(p,u||[]),a()}function a(){for(var e,r=0;r<p.length;r++){for(var t=p[r],n=!0,o=1;o<t.length;o++){var u=t[o];0!==c[u]&&(n=!1)}n&&(p.splice(r--,1),e=l(l.s=t[0]))}return e}var t={},c={1:0},p=[];function l(e){if(t[e])return t[e].exports;var r=t[e]={i:e,l:!1,exports:{}};return i[e].call(r.exports,r,r.exports,l),r.l=!0,r.exports}l.m=i,l.c=t,l.d=function(e,r,t){l.o(e,r)||Object.defineProperty(e,r,{enumerable:!0,get:t})},l.r=function(e){\"undefined\"!=typeof Symbol&&Symbol.toStringTag&&Object.defineProperty(e,Symbol.toStringTag,{value:\"Module\"}),Object.defineProperty(e,\"__esModule\",{value:!0})},l.t=function(r,e){if(1&e&&(r=l(r)),8&e)return r;if(4&e&&\"object\"==typeof r&&r&&r.__esModule)return r;var t=Object.create(null);if(l.r(t),Object.defineProperty(t,\"default\",{enumerable:!0,value:r}),2&e&&\"string\"!=typeof r)for(var n in r)l.d(t,n,function(e){return r[e]}.bind(null,n));return t},l.n=function(e){var r=e&&e.__esModule?function(){return e.default}:function(){return e};return l.d(r,\"a\",r),r},l.o=function(e,r){return Object.prototype.hasOwnProperty.call(e,r)},l.p=\"/\";var r=this.webpackJsonpgudecks=this.webpackJsonpgudecks||[],n=r.push.bind(r);r.push=e,r=r.slice();for(var o=0;o<r.length;o++)e(r[o]);var s=n;a()}([])</script><script src=\"/static/js/2.df95c9cf.chunk.js\"></script><script src=\"/static/js/main.48254e5f.chunk.js\"></script></body></html>' \n",
      "\n",
      "\n",
      "<!doctype html><html lang=\"en\"><head><meta charset=\"UTF-8\"><meta http-equiv=\"X-UA-Compatible\" content=\"ie=edge\"><link rel=\"manifest\" href=\"/manifest.json\"><link rel=\"apple-touch-icon\" sizes=\"180x180\" href=\"/favicon/apple-touch-icon.png\"><link rel=\"shortcut icon\" type=\"image/png\" href=\"/favicon/apple-touch-icon.png\"><link rel=\"shortcut icon\" type=\"image/png\" sizes=\"32x32\" href=\"/favicon/favicon-32x32.png\"><link rel=\"shortcut icon\" type=\"image/png\" sizes=\"16x16\" href=\"/favicon/favicon-16x16.png\"><link rel=\"mask-icon\" href=\"/favicon/safari-pinned-tab.svg\" color=\"#5bbad5\"><meta name=\"msapplication-TileColor\" content=\"#2b5797\"><meta name=\"theme-color\" content=\"#ffffff\"><script>window.onerror = function (message, url, lineNo, colNo, error) {\r\n",
      "  \r\n",
      "        console.log(arguments);\r\n",
      "  \r\n",
      "        let container = document.createElement('div');\r\n",
      "  \r\n",
      "        container.style.color = 'red';\r\n",
      "        container.style.position = 'fixed';\r\n",
      "        container.style.background = '#eee';\r\n",
      "        container.style.padding = '2em';\r\n",
      "        container.style.top = '1em';\r\n",
      "        container.style.left = '1em';\r\n",
      "  \r\n",
      "        let msg = document.createElement('pre');\r\n",
      "        msg.innerText = [\r\n",
      "          'Message: ' + message,\r\n",
      "          'URL: ' + url,\r\n",
      "          'Line: ' + lineNo,\r\n",
      "          'Column: ' + colNo,\r\n",
      "          'Stack: ' + (error && error.stack)\r\n",
      "        ].join('\\n');\r\n",
      "  \r\n",
      "        container.appendChild(msg);\r\n",
      "  \r\n",
      "        document.body.appendChild(container);\r\n",
      "      };</script><meta property=\"og:image\" content=\"/favicon/android-chrome-256x256.png\"><meta name=\"twitter:image\" content=\"/favicon/android-chrome-256x256.png\"><link href=\"https://fonts.googleapis.com/css?family=Open+Sans:400,600,700&display=swap\" rel=\"stylesheet\"><link rel=\"stylesheet\" href=\"https://stackpath.bootstrapcdn.com/bootstrap/4.1.3/css/bootstrap.min.css\" integrity=\"sha384-MCw98/SFnGE8fJT3GXwEOngsV7Zt27NXFoaoApmYm81iuXoPkFOJwJ8ERdknLPMO\" crossorigin=\"anonymous\"><script defer=\"defer\" src=\"https://code.jquery.com/jquery-3.3.1.slim.min.js\" integrity=\"sha384-q8i/X+965DzO0rT7abK41JStQIAqVgRVzpbzo5smXKp4YfRvH+8abtTE1Pi6jizo\" crossorigin=\"anonymous\"></script><script defer=\"defer\" src=\"https://cdnjs.cloudflare.com/ajax/libs/popper.js/1.14.3/umd/popper.min.js\" integrity=\"sha384-ZMP7rVo3mIykV+2+9J3UJ46jBk0WLaUAdn689aCwoqbBJiSnjAK/l8WvCWPIPm49\" crossorigin=\"anonymous\"></script><script defer=\"defer\" src=\"https://stackpath.bootstrapcdn.com/bootstrap/4.1.3/js/bootstrap.min.js\" integrity=\"sha384-ChfqqxuZUCnJSK3+MXmPNIyE6ZbWh2IMqE241rYiqJxyMiZ6OW/JmZQ5stwEULTy\" crossorigin=\"anonymous\"></script><meta name=\"google-site-verification\" content=\"ge2ESoQAbCUbStIYdQvRTUEyE8AJ-xaYctud-EZEWTM\"/><link href=\"/static/css/2.a42ec9b2.chunk.css\" rel=\"stylesheet\"><link href=\"/static/css/main.b32953f5.chunk.css\" rel=\"stylesheet\"></head><body><div id=\"root\"></div><script>!function(i){function e(e){for(var r,t,n=e[0],o=e[1],u=e[2],l=0,f=[];l<n.length;l++)t=n[l],Object.prototype.hasOwnProperty.call(c,t)&&c[t]&&f.push(c[t][0]),c[t]=0;for(r in o)Object.prototype.hasOwnProperty.call(o,r)&&(i[r]=o[r]);for(s&&s(e);f.length;)f.shift()();return p.push.apply(p,u||[]),a()}function a(){for(var e,r=0;r<p.length;r++){for(var t=p[r],n=!0,o=1;o<t.length;o++){var u=t[o];0!==c[u]&&(n=!1)}n&&(p.splice(r--,1),e=l(l.s=t[0]))}return e}var t={},c={1:0},p=[];function l(e){if(t[e])return t[e].exports;var r=t[e]={i:e,l:!1,exports:{}};return i[e].call(r.exports,r,r.exports,l),r.l=!0,r.exports}l.m=i,l.c=t,l.d=function(e,r,t){l.o(e,r)||Object.defineProperty(e,r,{enumerable:!0,get:t})},l.r=function(e){\"undefined\"!=typeof Symbol&&Symbol.toStringTag&&Object.defineProperty(e,Symbol.toStringTag,{value:\"Module\"}),Object.defineProperty(e,\"__esModule\",{value:!0})},l.t=function(r,e){if(1&e&&(r=l(r)),8&e)return r;if(4&e&&\"object\"==typeof r&&r&&r.__esModule)return r;var t=Object.create(null);if(l.r(t),Object.defineProperty(t,\"default\",{enumerable:!0,value:r}),2&e&&\"string\"!=typeof r)for(var n in r)l.d(t,n,function(e){return r[e]}.bind(null,n));return t},l.n=function(e){var r=e&&e.__esModule?function(){return e.default}:function(){return e};return l.d(r,\"a\",r),r},l.o=function(e,r){return Object.prototype.hasOwnProperty.call(e,r)},l.p=\"/\";var r=this.webpackJsonpgudecks=this.webpackJsonpgudecks||[],n=r.push.bind(r);r.push=e,r=r.slice();for(var o=0;o<r.length;o++)e(r[o]);var s=n;a()}([])</script><script src=\"/static/js/2.df95c9cf.chunk.js\"></script><script src=\"/static/js/main.48254e5f.chunk.js\"></script></body></html>\n"
     ]
    }
   ],
   "source": [
    "import requests\n",
    "\n",
    "try:\n",
    "    req = requests.get(\"https://gudecks.com/meta/match-results\")\n",
    "except Exception as erro:\n",
    "    print(\"DEU ERRO: \", erro)\n",
    "\n",
    "print(req.status_code, \"\\n\\n\") # Status do servidor\n",
    "print(req.headers, '\\n\\n') # Cabeçalho, informações com relação a propria requisição (exemplo: data)\n",
    "print(req.content, '\\n\\n') # Todo o codigo html da pagina\n",
    "print(req.text) # Todo o codigo html da pagina na forma de txt"
   ]
  },
  {
   "cell_type": "markdown",
   "id": "ec863c8f",
   "metadata": {},
   "source": [
    "## 4. Biblioteca: BeutifulSoup\n",
    "O BeutifulSoup é uma biblioteca que nos ajuda a visualizar as informações que recebemos nos requests."
   ]
  },
  {
   "cell_type": "code",
   "execution_count": 15,
   "id": "75a85ca1",
   "metadata": {},
   "outputs": [
    {
     "name": "stdout",
     "output_type": "stream",
     "text": [
      "<class 'bs4.BeautifulSoup'>\n"
     ]
    }
   ],
   "source": [
    "import requests\n",
    "from bs4 import BeautifulSoup\n",
    "\n",
    "try:\n",
    "    req = requests.get(\"https://g1.globo.com/\")\n",
    "except Exception as erro:\n",
    "    print(\"DEU ERRO: \", erro)\n",
    "    \n",
    "content = req.content # conteudo do site\n",
    "\n",
    "site = BeautifulSoup(content, 'html.parser')\n",
    "\n",
    "# print(site) : site inteiro\n",
    "# print(site.prettify()) : site inteiro, entretanto mais bonito\n",
    "print(type(site))"
   ]
  },
  {
   "cell_type": "markdown",
   "id": "e03d41e2",
   "metadata": {},
   "source": [
    "### 4.1 BeutifulSoup: find\n",
    "Para encontrar alguma \"div\" dentro do site, usamos o metodo \"find\" de objetos \"bs4.BeautifulSoup\". (Abaixo estamos encontrando uma noticia especifica dentro do site)"
   ]
  },
  {
   "cell_type": "code",
   "execution_count": 23,
   "id": "bdc51911",
   "metadata": {},
   "outputs": [
    {
     "name": "stdout",
     "output_type": "stream",
     "text": [
      "<div class=\"feed-post-body\">\n",
      " <div class=\"feed-post-header\">\n",
      " </div>\n",
      " <div class=\"feed-post-body-title gui-color-primary gui-color-hover\">\n",
      "  <div class=\"_evt\">\n",
      "   <a class=\"feed-post-link gui-color-primary gui-color-hover\" elementtiming=\"text-ssr\" href=\"https://g1.globo.com/rj/regiao-serrana/noticia/2022/02/16/instituicoes-recolhem-doacoes-para-vitimas-da-tragedia-em-petropolis-saiba-como-ajudar.ghtml\">\n",
      "    Saiba como ajudar as vítimas da chuva na Região Serrana do RJ\n",
      "   </a>\n",
      "  </div>\n",
      " </div>\n",
      " <div class=\"feed-media-wrapper\">\n",
      "  <a class=\"feed-post-figure-link gui-image-hover\" href=\"https://g1.globo.com/rj/regiao-serrana/noticia/2022/02/16/instituicoes-recolhem-doacoes-para-vitimas-da-tragedia-em-petropolis-saiba-como-ajudar.ghtml\">\n",
      "   <div class=\"bstn-fd-item-cover\">\n",
      "    <picture class=\"bstn-fd-cover-picture\">\n",
      "     <img alt=\"Foto: (REUTERS/Ricardo Moraes)\" class=\"bstn-fd-picture-image\" elementtiming=\"image-ssr\" loading=\"lazy\" sizes=\"(min-width: 540px) 50vw, (min-width: 900px) 30vw, 100vw\" src=\"https://s2.glbimg.com/C-LIPZYkNtJNqbH6XzC9INGRkSk=/2645x1590:5472x3180/540x304/smart/filters:max_age(3600)/https://i.s3.glbimg.com/v1/AUTH_59edd422c0c84a879bd37670ae4f538a/internal_photos/bs/2022/C/S/dCfb0CRfCzinauO0OF4Q/2022-02-16t130712z-1940795452-rc20ls93m250-rtrmadp-3-brazil-flood.jpg\" srcset=\"https://s2.glbimg.com/C-LIPZYkNtJNqbH6XzC9INGRkSk=/2645x1590:5472x3180/540x304/smart/filters:max_age(3600)/https://i.s3.glbimg.com/v1/AUTH_59edd422c0c84a879bd37670ae4f538a/internal_photos/bs/2022/C/S/dCfb0CRfCzinauO0OF4Q/2022-02-16t130712z-1940795452-rc20ls93m250-rtrmadp-3-brazil-flood.jpg 540w,https://s2.glbimg.com/WXOLqHvn7WRguYQ1u2CeEorgBCM=/2645x1590:5472x3180/810x456/smart/filters:max_age(3600)/https://i.s3.glbimg.com/v1/AUTH_59edd422c0c84a879bd37670ae4f538a/internal_photos/bs/2022/C/S/dCfb0CRfCzinauO0OF4Q/2022-02-16t130712z-1940795452-rc20ls93m250-rtrmadp-3-brazil-flood.jpg 810w,https://s2.glbimg.com/VdmBPJmDl5ynBziKEN4KFX0TIFQ=/2645x1590:5472x3180/1080x608/smart/filters:max_age(3600)/https://i.s3.glbimg.com/v1/AUTH_59edd422c0c84a879bd37670ae4f538a/internal_photos/bs/2022/C/S/dCfb0CRfCzinauO0OF4Q/2022-02-16t130712z-1940795452-rc20ls93m250-rtrmadp-3-brazil-flood.jpg 1080w\" title=\"Foto: (REUTERS/Ricardo Moraes)\"/>\n",
      "    </picture>\n",
      "   </div>\n",
      "  </a>\n",
      " </div>\n",
      " <div class=\"feed-post-metadata\">\n",
      "  <span class=\"feed-post-datetime\">\n",
      "   Há 2 horas\n",
      "  </span>\n",
      "  <span class=\"feed-post-metadata-section\">\n",
      "   Região Serrana\n",
      "  </span>\n",
      " </div>\n",
      " <div class=\"bstn-related\">\n",
      "  <ul class=\"bstn-relateditems\">\n",
      "   <li class=\"bstn-relateditem\">\n",
      "    <div class=\"bstn-fd-relatedtext\">\n",
      "     <a class=\"gui-color-primary gui-color-hover feed-post-body-title bstn-relatedtext\" href=\"https://redeglobo.globo.com/Responsabilidade-Social/para-quem-doar/\">\n",
      "      Para Quem Doar: veja entidades que arrecadam doações\n",
      "     </a>\n",
      "     <div class=\"feed-post-metadata\">\n",
      "      <span class=\"feed-post-datetime\">\n",
      "       Há 2 horas\n",
      "      </span>\n",
      "     </div>\n",
      "    </div>\n",
      "   </li>\n",
      "  </ul>\n",
      " </div>\n",
      "</div>\n"
     ]
    }
   ],
   "source": [
    "import requests\n",
    "from bs4 import BeautifulSoup\n",
    "\n",
    "try:\n",
    "    req = requests.get(\"https://g1.globo.com/\")\n",
    "except Exception as erro:\n",
    "    print(\"DEU ERRO: \", erro)\n",
    "    \n",
    "content = req.content # conteudo do site\n",
    "\n",
    "site = BeautifulSoup(content, 'html.parser')\n",
    "\n",
    "noticia = site.find('div', attrs={'class': 'feed-post-body'}) # O metodo find encontra o primeiro termo correspondente.\n",
    "\n",
    "# print(noticia) : Todo o HTML da noticia\n",
    "print(noticia.prettify()) #: Todo o HTML da noticia, entretanto mais bonita\n",
    "#print(type(noticia))"
   ]
  },
  {
   "cell_type": "markdown",
   "id": "44175450",
   "metadata": {},
   "source": [
    "### 4.1.1 BeutifulSoup: Encontrando uma noticia e o titulo da noticia"
   ]
  },
  {
   "cell_type": "code",
   "execution_count": 24,
   "id": "118c4f89",
   "metadata": {},
   "outputs": [
    {
     "name": "stdout",
     "output_type": "stream",
     "text": [
      "<a class=\"feed-post-link gui-color-primary gui-color-hover\" elementtiming=\"text-ssr\" href=\"https://g1.globo.com/rj/regiao-serrana/noticia/2022/02/16/instituicoes-recolhem-doacoes-para-vitimas-da-tragedia-em-petropolis-saiba-como-ajudar.ghtml\">Saiba como ajudar as vítimas da chuva na Região Serrana do RJ</a>\n"
     ]
    }
   ],
   "source": [
    "import requests\n",
    "from bs4 import BeautifulSoup\n",
    "\n",
    "try:\n",
    "    req = requests.get(\"https://g1.globo.com/\")\n",
    "except Exception as erro:\n",
    "    print(\"DEU ERRO: \", erro)\n",
    "    \n",
    "content = req.content # conteudo do site\n",
    "\n",
    "site = BeautifulSoup(content, 'html.parser')\n",
    "\n",
    "noticia = site.find('div', attrs={'class': 'feed-post-body'}) # O metodo find encontra o primeiro termo correspondente.\n",
    "\n",
    "titulo = noticia.find('a', attrs={'class': 'feed-post-link gui-color-primary gui-color-hover'})\n",
    "print(titulo)"
   ]
  },
  {
   "cell_type": "markdown",
   "id": "b5036cdc",
   "metadata": {},
   "source": []
  },
  {
   "cell_type": "markdown",
   "id": "6426ea6d",
   "metadata": {},
   "source": []
  },
  {
   "cell_type": "markdown",
   "id": "66883889",
   "metadata": {},
   "source": []
  },
  {
   "cell_type": "markdown",
   "id": "7b578d3d",
   "metadata": {},
   "source": []
  },
  {
   "cell_type": "markdown",
   "id": "f57dd276",
   "metadata": {},
   "source": []
  },
  {
   "cell_type": "markdown",
   "id": "6b72d39a",
   "metadata": {},
   "source": []
  },
  {
   "cell_type": "markdown",
   "id": "e537bebf",
   "metadata": {},
   "source": []
  },
  {
   "cell_type": "markdown",
   "id": "ac96cbf5",
   "metadata": {},
   "source": []
  },
  {
   "cell_type": "markdown",
   "id": "c205818f",
   "metadata": {},
   "source": []
  },
  {
   "cell_type": "markdown",
   "id": "9b70f5e0",
   "metadata": {},
   "source": []
  },
  {
   "cell_type": "markdown",
   "id": "52e39211",
   "metadata": {},
   "source": []
  },
  {
   "cell_type": "markdown",
   "id": "2917d390",
   "metadata": {},
   "source": []
  },
  {
   "cell_type": "markdown",
   "id": "2c9462f3",
   "metadata": {},
   "source": []
  },
  {
   "cell_type": "markdown",
   "id": "4d6999cf",
   "metadata": {},
   "source": []
  },
  {
   "cell_type": "markdown",
   "id": "3891da24",
   "metadata": {},
   "source": []
  },
  {
   "cell_type": "markdown",
   "id": "488facc8",
   "metadata": {},
   "source": []
  },
  {
   "cell_type": "markdown",
   "id": "a26c56cc",
   "metadata": {},
   "source": []
  },
  {
   "cell_type": "markdown",
   "id": "74968c56",
   "metadata": {},
   "source": []
  },
  {
   "cell_type": "markdown",
   "id": "17860f0d",
   "metadata": {},
   "source": []
  },
  {
   "cell_type": "markdown",
   "id": "7389636e",
   "metadata": {},
   "source": [
    "# Referencias\n",
    "- https://www.youtube.com/watch?v=42sTntMEn6o&list=PLg3ZPsW_sghSkRacynznQeEs-vminyTQk"
   ]
  }
 ],
 "metadata": {
  "kernelspec": {
   "display_name": "Python 3 (ipykernel)",
   "language": "python",
   "name": "python3"
  },
  "language_info": {
   "codemirror_mode": {
    "name": "ipython",
    "version": 3
   },
   "file_extension": ".py",
   "mimetype": "text/x-python",
   "name": "python",
   "nbconvert_exporter": "python",
   "pygments_lexer": "ipython3",
   "version": "3.9.6"
  }
 },
 "nbformat": 4,
 "nbformat_minor": 5
}
