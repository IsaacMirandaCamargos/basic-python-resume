{
 "cells": [
  {
   "cell_type": "markdown",
   "id": "8d5f0dd7",
   "metadata": {},
   "source": [
    "# Web Scrapping\n",
    "- Web scrapping consiste em retirar informações da internet de forma automatica."
   ]
  },
  {
   "cell_type": "markdown",
   "id": "279672d7",
   "metadata": {},
   "source": [
    "## 1. Introdução do HTML\n",
    "- HTML significa Hyper Markup Language, o HTML nada mais é que uma linguagem de marcação a qual é utilizada na criação de sites.\n",
    "- O HTML funciona como uma linguagem de marcação (tags)\n",
    "- Algumas tags possuem atributos, que ficam referenciados dentro da tag de abertura."
   ]
  },
  {
   "cell_type": "markdown",
   "id": "b62d27d8",
   "metadata": {},
   "source": [
    "### 1.1 Tags HTML\n",
    "\n",
    "As tags são limitadas por \"<\" e \">\". As tags geralmente contem 3 elementos:\n",
    "- tag de abertura\n",
    "- conteudo\n",
    "- tag de fechamento"
   ]
  },
  {
   "cell_type": "code",
   "execution_count": 1,
   "id": "b4a66f35",
   "metadata": {},
   "outputs": [],
   "source": [
    "# <p> isso é um paragrafo </p>"
   ]
  },
  {
   "cell_type": "markdown",
   "id": "8e06e133",
   "metadata": {},
   "source": [
    "### 1.2 Tags: head\n",
    "Dentro da tag \"head\" colocamos a tag \"title\" e outras tags que estão relacionadas as fontes que importamos ao nosso site."
   ]
  },
  {
   "cell_type": "code",
   "execution_count": null,
   "id": "7fb0a4bf",
   "metadata": {},
   "outputs": [],
   "source": [
    "# <head> \n",
    "#     <title> Nome que vai aparecer na aba do google chrome </title>\n",
    "# </head>"
   ]
  },
  {
   "cell_type": "markdown",
   "id": "91dd9cb1",
   "metadata": {},
   "source": [
    "### 1.3 Tags: body\n",
    "Dentro da tag \"body\" colocamos tudo o que nosso site vai ter, por exemplo paragrafos com a tag \"p\"."
   ]
  },
  {
   "cell_type": "code",
   "execution_count": 2,
   "id": "f4ceefad",
   "metadata": {},
   "outputs": [],
   "source": [
    "# <body>\n",
    "#     <p> texto </p>\n",
    "# </body>"
   ]
  },
  {
   "cell_type": "markdown",
   "id": "b9e1b56f",
   "metadata": {},
   "source": [
    "### 1.4 Tags: principais tags"
   ]
  },
  {
   "cell_type": "code",
   "execution_count": 3,
   "id": "557d78de",
   "metadata": {},
   "outputs": [],
   "source": [
    "# <html></html> : Conteúdo HTML\n",
    "# <head></head> : Cabeçalho do documento\n",
    "# <title></title> : Titulo da pagina HTML\n",
    "# <body></body> : Corpo do documento (pagina)\n",
    "# <h1></h1> Cabeçalho de nivel 1 (pode variar de 1 a 6)\n",
    "# <p></p> : Parágrafo\n",
    "# <div></div> : Conteudo genérico"
   ]
  },
  {
   "cell_type": "code",
   "execution_count": 4,
   "id": "bc3b501d",
   "metadata": {},
   "outputs": [],
   "source": [
    "# <a target=\"_blank\" href=\"link\"></a>\n",
    "# <span></span> : Conteudo genérico em linha\n",
    "# <table></table> : Tabela\n",
    "# <ul></ul> : Lista não numerada\n",
    "# <ol></ol> : Lista numerada\n",
    "# <li></li> : Elemento da lista (<ul> ou <ol>)\n",
    "# <img width=\"200px\"src=\"diretorio_do_pc.png\" alt=\"descrição da imagem\"> : Imagem"
   ]
  },
  {
   "cell_type": "markdown",
   "id": "db182cef",
   "metadata": {},
   "source": [
    "## 2. Protocolo HTTP\n",
    "- Protocolo: Padronização do envio e recebimento de informações.\n",
    "- HTTP: HyperText Transfer Protocol\n",
    "\n",
    "O protocolo HTTP é uma forma padronizada de fazer requisições e receber respostas na internet. Quando fazemos uma requisição na internet, o computador ira procurar qual computador possui aquele endereço que queremos acessar e quando ele acha esse computador, servidor, o servidor nos enviará uma resposta.\n",
    "\n",
    "- O protocolo HTTP consiste em:\n",
    "    - Define o modo como sites são acessados na internet.\n",
    "    - Requisição -> resposta\n",
    "    \n",
    "    \n",
    "- As respostas das requisições são strings padronizadas, que consistem em:\n",
    "    - Código de status.\n",
    "    - Cabeçalho.\n",
    "    - Conteúdo."
   ]
  },
  {
   "cell_type": "markdown",
   "id": "9b7d866e",
   "metadata": {},
   "source": [
    "### 2.1 Metodos HTTP\n",
    "Há varios metodos HTTP que permitem que façamos varias coisas, abaixo temos alguns:\n",
    "\n",
    "- GET: Solicita um recurso para o servidor (acessar uma página da web, por exemplo)\n",
    "- POST: Enviamos uma informação para o servidor. (cadastro de uma conta em um site)"
   ]
  },
  {
   "cell_type": "markdown",
   "id": "85025cb1",
   "metadata": {},
   "source": [
    "### 2.2 Códigos de status\n",
    "Os codigos de status são divididos em familias, abaixo temos alguns exemplos:\n",
    "- Familia: Descrição\n",
    "    - Informativo (1xx): Repostas sem conteúdo, contendo apenas informações sobre a comunicação.\n",
    "    - Sucesso (2xx): A mensagem chegou ao servidor e era válida.\n",
    "    - Redirecionamento: (3xx): O recurso buscado está em outro servidor.\n",
    "    - Erro do cliente (4xx): A requisição possui algum erro.\n",
    "    - Erro do servidor (5xx): O servidor não pode atender a requisição."
   ]
  },
  {
   "cell_type": "markdown",
   "id": "76a0f43f",
   "metadata": {},
   "source": [
    "## 3. Biblioteca: requests\n",
    "Para poder fazer GETs e POSTs, usaremos a biblioteca requests."
   ]
  },
  {
   "cell_type": "markdown",
   "id": "f76dd4c6",
   "metadata": {},
   "source": [
    "### 3.1 Requests: GET"
   ]
  },
  {
   "cell_type": "code",
   "execution_count": 27,
   "id": "e2ca2bcd",
   "metadata": {},
   "outputs": [
    {
     "name": "stdout",
     "output_type": "stream",
     "text": [
      "200 \n",
      "\n",
      "\n"
     ]
    }
   ],
   "source": [
    "import requests\n",
    "\n",
    "try:\n",
    "    req = requests.get(\"https://gudecks.com/meta/match-results\")\n",
    "except Exception as erro:\n",
    "    print(\"DEU ERRO: \", erro)\n",
    "\n",
    "print(req.status_code, \"\\n\\n\") # Status do servidor\n",
    "# print(req.headers, '\\n\\n') # Cabeçalho, informações com relação a propria requisição (exemplo: data)\n",
    "# print(req.content, '\\n\\n') # Todo o codigo html da pagina\n",
    "# print(req.text) # Todo o codigo html da pagina na forma de txt"
   ]
  },
  {
   "cell_type": "markdown",
   "id": "ec863c8f",
   "metadata": {},
   "source": [
    "## 4. Biblioteca: BeutifulSoup\n",
    "O BeutifulSoup é uma biblioteca que nos ajuda a visualizar as informações que recebemos nos requests."
   ]
  },
  {
   "cell_type": "code",
   "execution_count": 15,
   "id": "75a85ca1",
   "metadata": {},
   "outputs": [
    {
     "name": "stdout",
     "output_type": "stream",
     "text": [
      "<class 'bs4.BeautifulSoup'>\n"
     ]
    }
   ],
   "source": [
    "import requests\n",
    "from bs4 import BeautifulSoup\n",
    "\n",
    "try:\n",
    "    req = requests.get(\"https://g1.globo.com/\")\n",
    "except Exception as erro:\n",
    "    print(\"DEU ERRO: \", erro)\n",
    "    \n",
    "content = req.content # conteudo do site\n",
    "\n",
    "site = BeautifulSoup(content, 'html.parser')\n",
    "\n",
    "# print(site) : site inteiro\n",
    "# print(site.prettify()) : site inteiro, entretanto mais bonito\n",
    "print(type(site))"
   ]
  },
  {
   "cell_type": "markdown",
   "id": "e03d41e2",
   "metadata": {},
   "source": [
    "### 4.1 BeutifulSoup: find\n",
    "Para encontrar alguma \"div\" dentro do site, usamos o metodo \"find\" de objetos \"bs4.BeautifulSoup\". (Abaixo estamos encontrando uma noticia especifica dentro do site)"
   ]
  },
  {
   "cell_type": "code",
   "execution_count": 74,
   "id": "6958b070",
   "metadata": {},
   "outputs": [
    {
     "name": "stdout",
     "output_type": "stream",
     "text": [
      "<class 'bs4.element.Tag'>\n"
     ]
    }
   ],
   "source": [
    "import requests\n",
    "from bs4 import BeautifulSoup\n",
    "\n",
    "try:\n",
    "    req = requests.get(\"https://g1.globo.com/\")\n",
    "except Exception as erro:\n",
    "    print(\"DEU ERRO: \", erro)\n",
    "    \n",
    "content = req.content # conteudo do site\n",
    "\n",
    "site = BeautifulSoup(content, 'html.parser')\n",
    "\n",
    "noticia = site.find('div', attrs={'class': 'feed-post-body'}) # O metodo find encontra o primeiro termo correspondente.\n",
    "\n",
    "# print(noticia) : Todo o HTML da noticia\n",
    "# print(noticia.prettify()) #: Todo o HTML da noticia, entretanto mais bonita\n",
    "print(type(noticia)) #: <class 'bs4.element.Tag'>"
   ]
  },
  {
   "cell_type": "markdown",
   "id": "f00cecb1",
   "metadata": {},
   "source": [
    "## 4.1.1 BeutifulSoup: bs4.element.Tag\n",
    "O objeto \"bs4.element.Tag\" funciona como um dicionario e podemos acessar os atributos da \"tag\" com chaves"
   ]
  },
  {
   "cell_type": "code",
   "execution_count": 79,
   "id": "535d952e",
   "metadata": {},
   "outputs": [
    {
     "name": "stdout",
     "output_type": "stream",
     "text": [
      "<a class=\"feed-post-link gui-color-primary gui-color-hover\" elementtiming=\"text-ssr\" href=\"https://g1.globo.com/rj/regiao-serrana/ao-vivo/chuva-em-petropolis-assista-a-cobertura.ghtml\">ASSISTA: governador do RJ e prefeito falam sobre tragédia</a> \n",
      "\n",
      "\n",
      "classe:  ['feed-post-link', 'gui-color-primary', 'gui-color-hover']\n",
      "link:  https://g1.globo.com/rj/regiao-serrana/ao-vivo/chuva-em-petropolis-assista-a-cobertura.ghtml\n",
      "texto:  ASSISTA: governador do RJ e prefeito falam sobre tragédia\n"
     ]
    }
   ],
   "source": [
    "import requests\n",
    "from bs4 import BeautifulSoup\n",
    "\n",
    "try:\n",
    "    req = requests.get(\"https://g1.globo.com/\")\n",
    "except Exception as erro:\n",
    "    print(\"DEU ERRO: \", erro)\n",
    "    \n",
    "content = req.content # conteudo do site\n",
    "\n",
    "site = BeautifulSoup(content, 'html.parser')\n",
    "\n",
    "noticia = site.find('div', attrs={'class': 'feed-post-body'}) # O metodo find encontra o primeiro termo correspondente.\n",
    "\n",
    "titulo = noticia.find('a', attrs={'class':'feed-post-link'})\n",
    "\n",
    "print(titulo, '\\n\\n')\n",
    "print('classe: ', titulo['class'])\n",
    "print('link: ', titulo['href'])\n",
    "print('texto: ', titulo.text)\n"
   ]
  },
  {
   "cell_type": "markdown",
   "id": "44175450",
   "metadata": {},
   "source": [
    "### 4.2 BeutifulSoup: Encontrando uma noticia e o titulo da noticia"
   ]
  },
  {
   "cell_type": "code",
   "execution_count": 35,
   "id": "8a548d5f",
   "metadata": {},
   "outputs": [
    {
     "name": "stdout",
     "output_type": "stream",
     "text": [
      "Saiba como ajudar as vítimas da chuva na Região Serrana do RJ\n"
     ]
    }
   ],
   "source": [
    "import requests\n",
    "from bs4 import BeautifulSoup\n",
    "\n",
    "try:\n",
    "    req = requests.get(\"https://g1.globo.com/\")\n",
    "except Exception as erro:\n",
    "    print(\"DEU ERRO: \", erro)\n",
    "    \n",
    "content = req.content # conteudo do site\n",
    "\n",
    "site = BeautifulSoup(content, 'html.parser')\n",
    "\n",
    "noticia = site.find('div', attrs={'class': 'feed-post-body'}) # O metodo find encontra o primeiro termo correspondente.\n",
    "\n",
    "titulo = noticia.find('a', attrs={'class': 'feed-post-link gui-color-primary gui-color-hover'})\n",
    "\n",
    "print(titulo.text)"
   ]
  },
  {
   "cell_type": "markdown",
   "id": "a876e312",
   "metadata": {},
   "source": [
    "### 4.3 BeutifulSoup: findAll\n",
    "Para encontrar todas as \"div\" dentro do site, usamos o metodo \"findAll\" de objetos \"bs4.BeautifulSoup\". (Abaixo estamos encontrando todas as noticia especificas dentro do site)"
   ]
  },
  {
   "cell_type": "code",
   "execution_count": 48,
   "id": "15105d7f",
   "metadata": {},
   "outputs": [
    {
     "name": "stdout",
     "output_type": "stream",
     "text": [
      "<class 'bs4.element.ResultSet'>\n"
     ]
    }
   ],
   "source": [
    "import requests\n",
    "from bs4 import BeautifulSoup\n",
    "\n",
    "try:\n",
    "    req = requests.get(\"https://g1.globo.com/\")\n",
    "except Exception as erro:\n",
    "    print(\"DEU ERRO: \", erro)\n",
    "    \n",
    "content = req.content # conteudo do site\n",
    "\n",
    "site = BeautifulSoup(content, 'html.parser')\n",
    "\n",
    "noticia = site.findAll('div', attrs={'class': 'feed-post-body'}) # O metodo find encontra o primeiro termo correspondente.\n",
    "\n",
    "# print(noticia) : Todo o HTML da noticia\n",
    "print(type(noticia))\n"
   ]
  },
  {
   "cell_type": "markdown",
   "id": "0eed7799",
   "metadata": {},
   "source": [
    "O objeto \"bs4.element.ResultSet\" é um objeto iteravel."
   ]
  },
  {
   "cell_type": "markdown",
   "id": "66883889",
   "metadata": {},
   "source": [
    "### 4.4 BeutifulSoup: Encontrando todas as noticias, seus titulos e links"
   ]
  },
  {
   "cell_type": "code",
   "execution_count": 85,
   "id": "6207770c",
   "metadata": {},
   "outputs": [
    {
     "data": {
      "text/html": [
       "<div>\n",
       "<style scoped>\n",
       "    .dataframe tbody tr th:only-of-type {\n",
       "        vertical-align: middle;\n",
       "    }\n",
       "\n",
       "    .dataframe tbody tr th {\n",
       "        vertical-align: top;\n",
       "    }\n",
       "\n",
       "    .dataframe thead th {\n",
       "        text-align: right;\n",
       "    }\n",
       "</style>\n",
       "<table border=\"1\" class=\"dataframe\">\n",
       "  <thead>\n",
       "    <tr style=\"text-align: right;\">\n",
       "      <th></th>\n",
       "      <th>Titulo</th>\n",
       "      <th>Subtitulo</th>\n",
       "      <th>Link</th>\n",
       "    </tr>\n",
       "  </thead>\n",
       "  <tbody>\n",
       "    <tr>\n",
       "      <th>0</th>\n",
       "      <td>Saiba como ajudar as vítimas da chuva na Regiã...</td>\n",
       "      <td>None</td>\n",
       "      <td>https://g1.globo.com/rj/regiao-serrana/noticia...</td>\n",
       "    </tr>\n",
       "    <tr>\n",
       "      <th>1</th>\n",
       "      <td>Corpo da filha de mulher que usou enxada nas b...</td>\n",
       "      <td>None</td>\n",
       "      <td>https://g1.globo.com/rj/regiao-serrana/noticia...</td>\n",
       "    </tr>\n",
       "    <tr>\n",
       "      <th>2</th>\n",
       "      <td>Mãe de bebê levou 9 anos para engravidar: ‘Só ...</td>\n",
       "      <td>None</td>\n",
       "      <td>https://g1.globo.com/rj/regiao-serrana/noticia...</td>\n",
       "    </tr>\n",
       "    <tr>\n",
       "      <th>3</th>\n",
       "      <td>Vítimas são identificadas por familiares; veja...</td>\n",
       "      <td>None</td>\n",
       "      <td>https://g1.globo.com/rj/regiao-serrana/noticia...</td>\n",
       "    </tr>\n",
       "    <tr>\n",
       "      <th>4</th>\n",
       "      <td>'Imagina o desespero dele': o relato de sobrev...</td>\n",
       "      <td>None</td>\n",
       "      <td>https://g1.globo.com/rj/rio-de-janeiro/noticia...</td>\n",
       "    </tr>\n",
       "    <tr>\n",
       "      <th>5</th>\n",
       "      <td>INFOGRÁFICOS: região onde mais choveu foi a ma...</td>\n",
       "      <td>None</td>\n",
       "      <td>https://g1.globo.com/rj/regiao-serrana/noticia...</td>\n",
       "    </tr>\n",
       "    <tr>\n",
       "      <th>6</th>\n",
       "      <td>ANTES e DEPOIS: áreas de morro caíram e centro...</td>\n",
       "      <td>Dezenas de casas foram varridas pela lama. Víd...</td>\n",
       "      <td>https://g1.globo.com/rj/regiao-dos-lagos/video...</td>\n",
       "    </tr>\n",
       "    <tr>\n",
       "      <th>7</th>\n",
       "      <td>Força da água arrastou 2 ônibus para dentro de...</td>\n",
       "      <td>Não há informações sobre os passageiros; homem...</td>\n",
       "      <td>https://g1.globo.com/rj/regiao-serrana/noticia...</td>\n",
       "    </tr>\n",
       "    <tr>\n",
       "      <th>8</th>\n",
       "      <td>Cães, gatos e capivaras são resgatados e levad...</td>\n",
       "      <td>None</td>\n",
       "      <td>https://g1.globo.com/rj/regiao-serrana/noticia...</td>\n",
       "    </tr>\n",
       "  </tbody>\n",
       "</table>\n",
       "</div>"
      ],
      "text/plain": [
       "                                              Titulo  \\\n",
       "0  Saiba como ajudar as vítimas da chuva na Regiã...   \n",
       "1  Corpo da filha de mulher que usou enxada nas b...   \n",
       "2  Mãe de bebê levou 9 anos para engravidar: ‘Só ...   \n",
       "3  Vítimas são identificadas por familiares; veja...   \n",
       "4  'Imagina o desespero dele': o relato de sobrev...   \n",
       "5  INFOGRÁFICOS: região onde mais choveu foi a ma...   \n",
       "6  ANTES e DEPOIS: áreas de morro caíram e centro...   \n",
       "7  Força da água arrastou 2 ônibus para dentro de...   \n",
       "8  Cães, gatos e capivaras são resgatados e levad...   \n",
       "\n",
       "                                           Subtitulo  \\\n",
       "0                                               None   \n",
       "1                                               None   \n",
       "2                                               None   \n",
       "3                                               None   \n",
       "4                                               None   \n",
       "5                                               None   \n",
       "6  Dezenas de casas foram varridas pela lama. Víd...   \n",
       "7  Não há informações sobre os passageiros; homem...   \n",
       "8                                               None   \n",
       "\n",
       "                                                Link  \n",
       "0  https://g1.globo.com/rj/regiao-serrana/noticia...  \n",
       "1  https://g1.globo.com/rj/regiao-serrana/noticia...  \n",
       "2  https://g1.globo.com/rj/regiao-serrana/noticia...  \n",
       "3  https://g1.globo.com/rj/regiao-serrana/noticia...  \n",
       "4  https://g1.globo.com/rj/rio-de-janeiro/noticia...  \n",
       "5  https://g1.globo.com/rj/regiao-serrana/noticia...  \n",
       "6  https://g1.globo.com/rj/regiao-dos-lagos/video...  \n",
       "7  https://g1.globo.com/rj/regiao-serrana/noticia...  \n",
       "8  https://g1.globo.com/rj/regiao-serrana/noticia...  "
      ]
     },
     "execution_count": 85,
     "metadata": {},
     "output_type": "execute_result"
    }
   ],
   "source": [
    "import requests\n",
    "from bs4 import BeautifulSoup\n",
    "import pandas as pd\n",
    "import numpy as np\n",
    "\n",
    "\n",
    "try:\n",
    "    req = requests.get('https://g1.globo.com/')\n",
    "except Exception as erro:\n",
    "    print(\"DEU ERRO: \", erro)\n",
    "\n",
    "content = req.content\n",
    "\n",
    "site = BeautifulSoup(content, 'html.parser')\n",
    "\n",
    "noticias = site.findAll('div', attrs={'class':'feed-post-body'})\n",
    "\n",
    "titulo = []\n",
    "subtitulo = []\n",
    "links = []\n",
    "for noticia in noticias:\n",
    "    title = noticia.find('a', attrs={'class':'feed-post-link'})\n",
    "    subtitle = noticia.find('div', attrs={'class':'feed-post-body-resumo'})\n",
    "    subtitle = noticia.find('div', attrs={'class':'feed-post-body-resumo'}).text if subtitle != None else None\n",
    "    link = title['href']\n",
    "#    if subtitle != None: # A linha acima foi comprimida para ocultar a condição (não é didatico, mas funciona bem)\n",
    "#        subtitle = subtitle.text\n",
    "        \n",
    "    titulo.append(title.text)\n",
    "    subtitulo.append(subtitle)\n",
    "    links.append(link)\n",
    "    \n",
    "df = pd.DataFrame({'Titulo': titulo, 'Subtitulo': subtitulo, 'Link': links} )\n",
    "df"
   ]
  },
  {
   "cell_type": "markdown",
   "id": "f57dd276",
   "metadata": {},
   "source": [
    "## 4.4 "
   ]
  },
  {
   "cell_type": "markdown",
   "id": "6b72d39a",
   "metadata": {},
   "source": []
  },
  {
   "cell_type": "markdown",
   "id": "e537bebf",
   "metadata": {},
   "source": []
  },
  {
   "cell_type": "markdown",
   "id": "ac96cbf5",
   "metadata": {},
   "source": []
  },
  {
   "cell_type": "markdown",
   "id": "c205818f",
   "metadata": {},
   "source": []
  },
  {
   "cell_type": "markdown",
   "id": "9b70f5e0",
   "metadata": {},
   "source": []
  },
  {
   "cell_type": "markdown",
   "id": "52e39211",
   "metadata": {},
   "source": []
  },
  {
   "cell_type": "markdown",
   "id": "2917d390",
   "metadata": {},
   "source": []
  },
  {
   "cell_type": "markdown",
   "id": "2c9462f3",
   "metadata": {},
   "source": []
  },
  {
   "cell_type": "markdown",
   "id": "4d6999cf",
   "metadata": {},
   "source": []
  },
  {
   "cell_type": "markdown",
   "id": "3891da24",
   "metadata": {},
   "source": []
  },
  {
   "cell_type": "markdown",
   "id": "488facc8",
   "metadata": {},
   "source": []
  },
  {
   "cell_type": "markdown",
   "id": "a26c56cc",
   "metadata": {},
   "source": []
  },
  {
   "cell_type": "markdown",
   "id": "74968c56",
   "metadata": {},
   "source": []
  },
  {
   "cell_type": "markdown",
   "id": "17860f0d",
   "metadata": {},
   "source": []
  },
  {
   "cell_type": "markdown",
   "id": "7389636e",
   "metadata": {},
   "source": [
    "# Referencias\n",
    "- https://www.youtube.com/watch?v=42sTntMEn6o&list=PLg3ZPsW_sghSkRacynznQeEs-vminyTQk"
   ]
  }
 ],
 "metadata": {
  "kernelspec": {
   "display_name": "Python 3 (ipykernel)",
   "language": "python",
   "name": "python3"
  },
  "language_info": {
   "codemirror_mode": {
    "name": "ipython",
    "version": 3
   },
   "file_extension": ".py",
   "mimetype": "text/x-python",
   "name": "python",
   "nbconvert_exporter": "python",
   "pygments_lexer": "ipython3",
   "version": "3.9.6"
  }
 },
 "nbformat": 4,
 "nbformat_minor": 5
}
